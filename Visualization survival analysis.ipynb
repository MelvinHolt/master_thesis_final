{
 "cells": [
  {
   "cell_type": "code",
   "execution_count": null,
   "id": "4c74ffac-b8f0-474e-8abc-5a40ce934213",
   "metadata": {},
   "outputs": [],
   "source": [
    "from lifelines import CoxPHFitter"
   ]
  },
  {
   "cell_type": "code",
   "execution_count": null,
   "id": "1d2dd184-f355-46d5-9e53-53c0ac6ed887",
   "metadata": {},
   "outputs": [],
   "source": []
  },
  {
   "cell_type": "code",
   "execution_count": null,
   "id": "586199e8-74e2-4be5-a4ec-d6c14328d062",
   "metadata": {},
   "outputs": [],
   "source": [
    "lifelines_data = train_data.loc[:, ['label', 'duration', 'debt_amount']]"
   ]
  },
  {
   "cell_type": "code",
   "execution_count": null,
   "id": "38d42809-57e2-4fa8-a02e-3c41c6c7f776",
   "metadata": {},
   "outputs": [],
   "source": [
    "from sklearn.preprocessing import StandardScaler\n",
    "\n",
    "scaler= StandardScaler()\n",
    "lifelines_data['debt_amount'] = scaler.fit_transform(lifelines_data.loc[:, ['debt_amount']])"
   ]
  },
  {
   "cell_type": "code",
   "execution_count": null,
   "id": "e1e2f5cd-c748-4f3a-aefd-ea1c08eb8b20",
   "metadata": {},
   "outputs": [],
   "source": [
    "lifelines_data"
   ]
  },
  {
   "cell_type": "code",
   "execution_count": null,
   "id": "c44b5308-3b1a-4425-b5ca-c664d4cd1c38",
   "metadata": {},
   "outputs": [],
   "source": [
    "cph = CoxPHFitter()\n",
    "cph.fit(lifelines_data, duration_col =\"duration\", event_col=\"label\")"
   ]
  },
  {
   "cell_type": "code",
   "execution_count": null,
   "id": "bfbeea70-33c7-4776-9503-b964f7944858",
   "metadata": {},
   "outputs": [],
   "source": [
    "cph.hazard_ratios_"
   ]
  },
  {
   "cell_type": "code",
   "execution_count": null,
   "id": "cf543144-c163-4f6d-aa32-55c274f71220",
   "metadata": {},
   "outputs": [],
   "source": [
    "cph.summary"
   ]
  },
  {
   "cell_type": "code",
   "execution_count": null,
   "id": "e85af2e2-3dab-4cbe-ac80-877dcbf1221c",
   "metadata": {},
   "outputs": [],
   "source": [
    "lifelines_data"
   ]
  },
  {
   "cell_type": "code",
   "execution_count": null,
   "id": "fc0d3462-6b26-4e81-a317-d208c35acc32",
   "metadata": {},
   "outputs": [],
   "source": [
    "lifelines_data.debt_amount.mean()"
   ]
  },
  {
   "cell_type": "code",
   "execution_count": null,
   "id": "c5316dc7-6301-4b97-baea-993cb4c07bd5",
   "metadata": {},
   "outputs": [],
   "source": [
    "lifelines_data.debt_amount.std()"
   ]
  },
  {
   "cell_type": "code",
   "execution_count": null,
   "id": "5ea4f612-9314-4704-9305-6492d0d74141",
   "metadata": {},
   "outputs": [],
   "source": [
    "test = pd.DataFrame([[1, 0, lifelines_data.debt_amount.mean()],[1, 0, lifelines_data.debt_amount.mean() + 10* lifelines_data.debt_amount.std()]], columns = lifelines_data.columns, index=['Baseline Hazard rate', 'Individual debt case'])"
   ]
  },
  {
   "cell_type": "code",
   "execution_count": null,
   "id": "9d2f1f86-2413-4184-96c3-1c47ccde4ded",
   "metadata": {},
   "outputs": [],
   "source": [
    "lifelines_data.debt_amount.mean()"
   ]
  },
  {
   "cell_type": "code",
   "execution_count": null,
   "id": "24ec57c4-9bc9-4f27-922a-b9373cf77567",
   "metadata": {},
   "outputs": [],
   "source": []
  },
  {
   "cell_type": "code",
   "execution_count": null,
   "id": "51406f45-f4b8-47c6-8d75-9794108eb6d1",
   "metadata": {},
   "outputs": [],
   "source": [
    "cph.predict_expectation(test)"
   ]
  },
  {
   "cell_type": "code",
   "execution_count": null,
   "id": "6546c06d-c5f5-46aa-8cd0-9282db137060",
   "metadata": {},
   "outputs": [],
   "source": [
    "def plot_survival_function(cox, data):\n",
    "    (1 - cox.predict_survival_function(data)).plot()\n",
    "    plt.xlabel('Days in Execution phase')\n",
    "    plt.ylabel('Hazard rate')\n",
    "    plt.ylim(0,1)\n",
    "    plt.xlim(0,600)\n",
    "\n"
   ]
  },
  {
   "cell_type": "code",
   "execution_count": null,
   "id": "a3ead701-c60c-4bd0-ac42-4c676fb4cbdd",
   "metadata": {},
   "outputs": [],
   "source": [
    "cph.baseline_survival_.plot(drawstyle=\"steps\", legend=None)\n",
    "plt.xlabel('Days in Execution phase')\n",
    "plt.ylabel('Survival rate')\n",
    "plt.ylim(0,1)\n",
    "plt.xlim(0,600)\n",
    "plt.title('Baseline Survival of Debt cases in the Execution phase')\n",
    "plt.tight_layout()\n",
    "plt.savefig('./figures/baseline_survival')"
   ]
  },
  {
   "cell_type": "code",
   "execution_count": null,
   "id": "6a715bf5-f445-47ed-bff8-7c92a3271b26",
   "metadata": {},
   "outputs": [],
   "source": [
    "# cph.baseline_survival_.loc[600]"
   ]
  },
  {
   "cell_type": "code",
   "execution_count": null,
   "id": "386e0e0f-4b0e-4ee7-ac5d-2fc96e3aa812",
   "metadata": {},
   "outputs": [],
   "source": [
    "cph.baseline_survival_[cph.baseline_survival_ < 0.5].dropna()"
   ]
  },
  {
   "cell_type": "code",
   "execution_count": null,
   "id": "49fd1b94-6060-4c5d-a831-6bff0b13bd57",
   "metadata": {},
   "outputs": [],
   "source": []
  },
  {
   "cell_type": "code",
   "execution_count": null,
   "id": "f7dc090e-091a-4cd5-93b0-19853b27e33f",
   "metadata": {},
   "outputs": [],
   "source": [
    "# plot_survival_function(cph, test)\n",
    "# plt.tight_layout()\n",
    "# plt.savefig('./figures/cox_proportional_baseline_individual')"
   ]
  }
 ],
 "metadata": {
  "kernelspec": {
   "display_name": "Python 3",
   "language": "python",
   "name": "python3"
  },
  "language_info": {
   "codemirror_mode": {
    "name": "ipython",
    "version": 3
   },
   "file_extension": ".py",
   "mimetype": "text/x-python",
   "name": "python",
   "nbconvert_exporter": "python",
   "pygments_lexer": "ipython3",
   "version": "3.8.10"
  }
 },
 "nbformat": 4,
 "nbformat_minor": 5
}
