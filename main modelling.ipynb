{
 "cells": [
  {
   "cell_type": "code",
   "execution_count": null,
   "id": "3dc9b804-df1b-4185-8730-1db073a9dccf",
   "metadata": {},
   "outputs": [],
   "source": [
    "import pandas as pd\n",
    "import numpy as np\n",
    "from sklearn.model_selection import train_test_split\n",
    "import matplotlib.pyplot as plt\n",
    "from sksurv.ensemble import RandomSurvivalForest\n",
    "\n",
    "from sklearn.model_selection import GridSearchCV, KFold, TimeSeriesSplit\n",
    "from sklearn.pipeline import make_pipeline\n",
    "from sklearn.pipeline import Pipeline\n",
    "from sklearn.preprocessing import MinMaxScaler, MinMaxScaler, StandardScaler, RobustScaler\n",
    "from sksurv.linear_model import CoxnetSurvivalAnalysis\n",
    "from sklearn.compose import ColumnTransformer\n",
    "from sksurv.svm import FastSurvivalSVM\n",
    "from sksurv.metrics import integrated_brier_score\n",
    "import pickle"
   ]
  },
  {
   "cell_type": "code",
   "execution_count": null,
   "id": "b15a79c3-7ffe-49a8-9969-d1823a4c0ebd",
   "metadata": {},
   "outputs": [],
   "source": [
    "import seaborn as sns\n",
    "sns.set_theme(style=\"darkgrid\")"
   ]
  },
  {
   "cell_type": "code",
   "execution_count": null,
   "id": "9666b46e-c3c4-4373-80b1-94bf7a79cdbd",
   "metadata": {},
   "outputs": [],
   "source": [
    "def save_obj(obj, name ):\n",
    "    with open('obj/'+ name + '.pkl', 'wb') as f:\n",
    "        pickle.dump(obj, f, pickle.HIGHEST_PROTOCOL)\n",
    "\n",
    "def load_obj(name ):\n",
    "    with open('obj/' + name + '.pkl', 'rb') as f:\n",
    "        return pickle.load(f)"
   ]
  },
  {
   "cell_type": "code",
   "execution_count": null,
   "id": "0bf38728-01ee-4887-bf77-14f77a2c41a1",
   "metadata": {},
   "outputs": [],
   "source": [
    "import pandas as pd\n",
    "import numpy as np"
   ]
  },
  {
   "cell_type": "markdown",
   "id": "5adcd1e8-f230-40dc-8356-39c44bba32d2",
   "metadata": {},
   "source": [
    "# Model selection"
   ]
  },
  {
   "cell_type": "code",
   "execution_count": null,
   "id": "cf7962fd-70ce-4f0d-a1c4-690c723ea24d",
   "metadata": {},
   "outputs": [],
   "source": [
    "model_string = 'Random regression with all features'"
   ]
  },
  {
   "cell_type": "code",
   "execution_count": null,
   "id": "e871750d-c734-4c02-9da6-4bcc759df659",
   "metadata": {},
   "outputs": [],
   "source": [
    "dataset = pd.read_csv('./data/complete_dataset_v3.csv', index_col = 0)\n",
    "dataset.head()"
   ]
  },
  {
   "cell_type": "code",
   "execution_count": null,
   "id": "32bbf5fc-3348-4d4e-93be-b0fb2a482fe2",
   "metadata": {},
   "outputs": [],
   "source": [
    "train_data = pd.read_csv('./data/train_data.csv', index_col=0)\n",
    "test_data = pd.read_csv('./data/test_data.csv', index_col=0)"
   ]
  },
  {
   "cell_type": "markdown",
   "id": "115e18e0-0811-489c-860f-fda03f72041d",
   "metadata": {},
   "source": [
    "### drop days_since_last_payment and days_since_last_contact for linear models"
   ]
  },
  {
   "cell_type": "code",
   "execution_count": null,
   "id": "b255bcc8-f715-41db-814f-17504e96dc18",
   "metadata": {},
   "outputs": [],
   "source": [
    "if 'Random' in model_string:\n",
    "    cols = ['debtor_payment_past_30_days','debtor_payment_past_180_days', 'debtor_payment_past_365_days', 'debtor_payment_in_dataset', 'debtor_contact_past_30_days', 'debtor_contact_past_180_days', 'debtor_contact_past_365_days', 'debtor_contact_in_dataset']\n",
    "    train_data = train_data.drop(cols, axis = 1)\n",
    "    test_data = test_data.drop(cols, axis = 1)\n",
    "else:\n",
    "    cols = ['days_since_last_payment', 'days_since_last_contact']\n",
    "    train_data = train_data.drop(cols, axis = 1)\n",
    "    test_data = test_data.drop(cols, axis = 1)"
   ]
  },
  {
   "cell_type": "code",
   "execution_count": null,
   "id": "75bb765d-948d-4014-b072-4f7d116216fb",
   "metadata": {},
   "outputs": [],
   "source": [
    "train_data.columns"
   ]
  },
  {
   "cell_type": "markdown",
   "id": "e28e171b-561b-43ff-aa0a-3c218eb8224e",
   "metadata": {},
   "source": [
    "### Train set"
   ]
  },
  {
   "cell_type": "code",
   "execution_count": null,
   "id": "fa0e497b-3c67-47a5-99a6-b29c49a1d23d",
   "metadata": {},
   "outputs": [],
   "source": [
    "X_train = train_data.drop(['dossier_nr', 'debiteur_relatie_nr', 'label','duration'], axis = 1)\n",
    "y_train = train_data.loc[:, ['label', 'duration']]\n",
    "\n",
    "y_train['label'] = y_train['label'].apply(lambda x: True if x else False)\n",
    "y_train = np.array(y_train.to_records(index=False))"
   ]
  },
  {
   "cell_type": "markdown",
   "id": "6d97e209-8f89-4ddf-92a0-ecf9082e9a65",
   "metadata": {},
   "source": [
    "### Test set"
   ]
  },
  {
   "cell_type": "code",
   "execution_count": null,
   "id": "fb81debe-72b1-4e56-a827-56e9519a7616",
   "metadata": {},
   "outputs": [],
   "source": [
    "X_test = test_data.drop(['dossier_nr', 'debiteur_relatie_nr', 'label','duration'], axis = 1)\n",
    "y_test = test_data.loc[:, ['label', 'duration']]\n",
    "\n",
    "\n",
    "y_test['label'] = y_test['label'].apply(lambda x: True if x else False)\n",
    "test_labels = y_test.copy()\n",
    "y_test = np.array(y_test.to_records(index=False))"
   ]
  },
  {
   "cell_type": "markdown",
   "id": "12230186-5ab7-41ed-afdf-56011b7d908d",
   "metadata": {},
   "source": [
    "# Feature selection"
   ]
  },
  {
   "cell_type": "code",
   "execution_count": null,
   "id": "7ed05626-1795-4b1e-baec-d7da3445da3b",
   "metadata": {},
   "outputs": [],
   "source": [
    "non_zero_coefs = pd.read_csv('./data/non_zero_coefs.csv', index_col = 0)\n",
    "non_zero_coefs.head()"
   ]
  },
  {
   "cell_type": "code",
   "execution_count": null,
   "id": "0f84a144-b8fb-4f97-a96a-14fd5dce568f",
   "metadata": {},
   "outputs": [],
   "source": [
    "features = non_zero_coefs.abs().sort_values('coefficient', ascending = False)\n",
    "features;"
   ]
  },
  {
   "cell_type": "code",
   "execution_count": null,
   "id": "701e1d54-288f-4948-ac49-e8aa58186bec",
   "metadata": {},
   "outputs": [],
   "source": [
    "features.iloc[:10]"
   ]
  },
  {
   "cell_type": "code",
   "execution_count": null,
   "id": "eaa956d7-0734-4c57-9d2f-c841a37dcb32",
   "metadata": {},
   "outputs": [],
   "source": [
    "def contains_number(s):\n",
    "    return any(i.isdigit() for i in s)"
   ]
  },
  {
   "cell_type": "code",
   "execution_count": null,
   "id": "b667fb06-f675-4ea0-a15b-4efb2560486d",
   "metadata": {},
   "outputs": [],
   "source": [
    "if contains_number(model_string):\n",
    "    nr_features = [int(s) for s in model_string.split() if s.isdigit()][0]\n",
    "    features = features.iloc[:nr_features]\n",
    "    X_train = X_train.loc[:, features.index.tolist()]\n",
    "    X_test = X_test.loc[:, features.index.tolist()]"
   ]
  },
  {
   "cell_type": "code",
   "execution_count": null,
   "id": "8c100d9a-b805-4986-b502-2b969251f5e3",
   "metadata": {},
   "outputs": [],
   "source": [
    "X_train.columns"
   ]
  },
  {
   "cell_type": "code",
   "execution_count": null,
   "id": "440312ef-c995-42e1-9d65-67592764467d",
   "metadata": {},
   "outputs": [],
   "source": [
    "# X_train = X_train.loc[:, ['debt_amount', 'nr_open_cases_in_execution_phase']]\n",
    "# X_test = X_test.loc[:, ['debt_amount', 'nr_open_cases_in_execution_phase']]"
   ]
  },
  {
   "cell_type": "markdown",
   "id": "b590d086-800f-4eeb-a01a-6935dfc9a739",
   "metadata": {},
   "source": [
    "# Model selection"
   ]
  },
  {
   "cell_type": "code",
   "execution_count": null,
   "id": "ac5ed596-93aa-4e3a-8e3a-801dd73179c4",
   "metadata": {},
   "outputs": [],
   "source": [
    "if 'Cox' in model_string:\n",
    "    model = CoxnetSurvivalAnalysis()\n",
    "    estimator_pipe = make_pipeline(\n",
    "        StandardScaler(),\n",
    "        model\n",
    "    )\n",
    "    param_grid = {\n",
    "        \"coxnetsurvivalanalysis__alphas\" : [[np.exp(-5)], [np.exp(-4)],  [np.exp(-3)],  [np.exp(-2)], [np.exp(-1)]],\n",
    "        \"coxnetsurvivalanalysis__l1_ratio\" : [0, 0.25, 0.5, 0.75, 1]\n",
    "    }\n",
    "    \n",
    "elif 'Random' in model_string:\n",
    "    model = RandomSurvivalForest(\n",
    "       max_features=\"sqrt\",\n",
    "       n_jobs=-1,\n",
    "       random_state=42\n",
    "    )\n",
    "    estimator_pipe = make_pipeline(\n",
    "        model\n",
    "    )\n",
    "    param_grid = {\n",
    "        \"randomsurvivalforest__n_estimators\" : [50, 100, 200],\n",
    "        \"randomsurvivalforest__max_depth\" : [3,6],\n",
    "        \"randomsurvivalforest__min_samples_split\" : [20, 100, 500],\n",
    "        \"randomsurvivalforest__min_samples_leaf\" : [100,200],\n",
    "        \"randomsurvivalforest__max_leaf_nodes\" : [50,250],\n",
    "    }\n",
    "    \n",
    "elif 'Fast' in model_string:\n",
    "    model = FastSurvivalSVM(random_state=42)\n",
    "    estimator_pipe = make_pipeline(\n",
    "        StandardScaler(),\n",
    "        model\n",
    "    )\n",
    "    param_grid = {\n",
    "        \"fastsurvivalsvm__max_iter\": [10, 25, 50],\n",
    "#         \"fastsurvivalsvm__tol\" : [[np.exp(-6)], [np.exp(-4)], [np.exp(-2)]],\n",
    "        \"fastsurvivalsvm__alpha\": [np.exp(-5), np.exp(-3), np.exp(-1)],\n",
    "        \"fastsurvivalsvm__rank_ratio\": [0, 0.5, 1]\n",
    "    }"
   ]
  },
  {
   "cell_type": "code",
   "execution_count": null,
   "id": "5ca40b41-a611-4488-b1ce-bf9cfcf11efe",
   "metadata": {},
   "outputs": [],
   "source": [
    "tscv = TimeSeriesSplit(n_splits = 5)\n",
    "\n",
    "gcv = GridSearchCV(\n",
    "    estimator_pipe,\n",
    "    param_grid=param_grid,\n",
    "    cv = tscv,\n",
    "    error_score=0.5,\n",
    "    n_jobs=-1,\n",
    "    verbose=10\n",
    ").fit(X_train, y_train)"
   ]
  },
  {
   "cell_type": "code",
   "execution_count": null,
   "id": "fce0e3d8-9877-466f-8906-73391fe28fdd",
   "metadata": {},
   "outputs": [],
   "source": [
    "gcv_results = pd.DataFrame(gcv.cv_results_).sort_values(by='rank_test_score')\n",
    "gcv_results"
   ]
  },
  {
   "cell_type": "code",
   "execution_count": null,
   "id": "aff9f5b9-8154-4be0-bf7a-e00424ce4443",
   "metadata": {},
   "outputs": [],
   "source": [
    "if 'Cox'in model_string:\n",
    "    results = gcv_results.loc[:,['param_coxnetsurvivalanalysis__alphas', 'param_coxnetsurvivalanalysis__l1_ratio', 'mean_test_score']]\n",
    "    \n",
    "    results.columns = ['alpha', 'l1_ratio', 'Mean C-statistic of test set' ]\n",
    "    results.alpha = results.alpha.apply(lambda x: x[0])\n",
    "print(results.iloc[:5].to_latex(index=False))"
   ]
  },
  {
   "cell_type": "code",
   "execution_count": null,
   "id": "1378d5de-413f-4c88-aa4f-0cfbba89ee36",
   "metadata": {},
   "outputs": [],
   "source": [
    "if 'Random' in model_string:\n",
    "    results = gcv_results.loc[:, ['param_randomsurvivalforest__n_estimators', 'param_randomsurvivalforest__max_depth', 'param_randomsurvivalforest__min_samples_split', 'param_randomsurvivalforest__min_samples_leaf', 'param_randomsurvivalforest__max_leaf_nodes', 'mean_test_score']]\n",
    "    results.columns = ['n_estimators', 'max_depth', 'min_samples_split', 'min_samples_leaf', 'max_leaf_nodes', 'Mean C-statistic of test set']\n"
   ]
  },
  {
   "cell_type": "code",
   "execution_count": null,
   "id": "73910e2e-1836-4eb7-ad1c-35e01e3b53e3",
   "metadata": {},
   "outputs": [],
   "source": [
    "print(results.iloc[:5].to_latex(index=False))"
   ]
  },
  {
   "cell_type": "code",
   "execution_count": null,
   "id": "8d7a6816-d90a-49c8-8794-a03ce0352ba2",
   "metadata": {},
   "outputs": [],
   "source": []
  },
  {
   "cell_type": "code",
   "execution_count": null,
   "id": "33a536c4-f85a-472c-959a-c4b633ad29e9",
   "metadata": {},
   "outputs": [],
   "source": [
    "gcv.best_estimator_"
   ]
  },
  {
   "cell_type": "code",
   "execution_count": null,
   "id": "c22d3213-1a04-471c-9bbf-75275447f011",
   "metadata": {},
   "outputs": [],
   "source": [
    "save_obj(gcv.best_params_, 'rsf_best_params')"
   ]
  },
  {
   "cell_type": "code",
   "execution_count": null,
   "id": "6e76fb87-14bd-40ef-9c2b-82bd8914248e",
   "metadata": {},
   "outputs": [],
   "source": [
    "best_params = load_obj('rsf_best_params')"
   ]
  },
  {
   "cell_type": "code",
   "execution_count": null,
   "id": "027f0394-9342-4d17-aaf2-6bdf2aa242f9",
   "metadata": {},
   "outputs": [],
   "source": [
    "best_params"
   ]
  },
  {
   "cell_type": "code",
   "execution_count": null,
   "id": "01d7192a-ffd4-4b1b-8ef8-6eb0531fdb83",
   "metadata": {},
   "outputs": [],
   "source": [
    "gcv.best_params_"
   ]
  },
  {
   "cell_type": "code",
   "execution_count": null,
   "id": "26e4c76e-46e0-4d05-9e4e-063467753f91",
   "metadata": {},
   "outputs": [],
   "source": [
    "gcv.best_estimator_.score(X_train, y_train)"
   ]
  },
  {
   "cell_type": "code",
   "execution_count": null,
   "id": "da2a7c89-e6aa-4fae-8401-23e12f025c95",
   "metadata": {},
   "outputs": [],
   "source": [
    "gcv.best_estimator_.score(X_test, y_test)"
   ]
  },
  {
   "cell_type": "markdown",
   "id": "c7f6744e-ffcf-4254-8245-e3be4e8989f7",
   "metadata": {},
   "source": [
    "# Best params training"
   ]
  },
  {
   "cell_type": "code",
   "execution_count": null,
   "id": "3b8b1ff2-1c59-4e8c-bc73-2ea76b4fb96d",
   "metadata": {},
   "outputs": [],
   "source": [
    "if 'Cox' in model_string:\n",
    "    pipe_pred =  make_pipeline(\n",
    "        StandardScaler(),\n",
    "        CoxnetSurvivalAnalysis(fit_baseline_model=True)\n",
    "    )"
   ]
  },
  {
   "cell_type": "code",
   "execution_count": null,
   "id": "1f1a4b20-6270-489e-8a30-4db9af22a2b5",
   "metadata": {},
   "outputs": [],
   "source": [
    "if 'Random' in model_string:\n",
    "    pipe_pred =  make_pipeline(\n",
    "        RandomSurvivalForest(\n",
    "           max_features=\"sqrt\",\n",
    "           n_jobs=-1,\n",
    "           random_state=42\n",
    "        )\n",
    "    )"
   ]
  },
  {
   "cell_type": "code",
   "execution_count": null,
   "id": "c5e0c7ce-6b86-44fe-a817-9b83c31b541c",
   "metadata": {},
   "outputs": [],
   "source": [
    "pipe_pred.set_params(**gcv.best_params_)\n",
    "pipe_pred.fit(X_train, y_train)"
   ]
  },
  {
   "cell_type": "markdown",
   "id": "eb94b82c-fb88-4fa1-9281-fb5518fd981e",
   "metadata": {},
   "source": [
    "# Feautre importance/ coefficients"
   ]
  },
  {
   "cell_type": "code",
   "execution_count": null,
   "id": "dd51ee2d-1bd7-4883-82a9-1cac9d04d999",
   "metadata": {},
   "outputs": [],
   "source": [
    "if 'Cox' in model_string:\n",
    "    best_model = pipe_pred.named_steps[\"coxnetsurvivalanalysis\"]\n",
    "    best_coefs = pd.DataFrame(\n",
    "        best_model.coef_,\n",
    "        index=X_train.columns,\n",
    "        columns=[\"coefficient\"]\n",
    "    )\n",
    "\n",
    "    non_zero = np.sum(best_coefs.iloc[:, 0] != 0)\n",
    "    print(\"Number of non-zero coefficients: {}\".format(non_zero))\n",
    "\n",
    "    non_zero_coefs = best_coefs.query(\"coefficient != 0\")\n",
    "    coef_order = non_zero_coefs.abs().sort_values(\"coefficient\").index\n",
    "\n",
    "    _, ax = plt.subplots(figsize=(12, 6))\n",
    "    \n",
    "    non_zero_coefs.loc[coef_order].plot.barh(ax=ax, legend=False)\n",
    "    ax.set_xlabel(\"coefficient\")\n",
    "    ax.grid(True)\n",
    "    if contains_number(model_string):\n",
    "        plt.title('Coefficients for {}'.format(model_string))\n",
    "    else:\n",
    "        plt.title('Coefficients for {}'.format(model_string))\n",
    "    plt.tight_layout()\n",
    "    plt.savefig('./figures/appendix/coefficients_{}'.format(model_string))\n",
    "    \n",
    "    "
   ]
  },
  {
   "cell_type": "code",
   "execution_count": null,
   "id": "e3753eb5-9fbf-410b-b7a8-69631ba2e49c",
   "metadata": {},
   "outputs": [],
   "source": [
    "if 'Cox' in model_string:\n",
    "    best_model = pipe_pred.named_steps[\"coxnetsurvivalanalysis\"]\n",
    "    best_coefs = pd.DataFrame(\n",
    "        best_model.coef_,\n",
    "        index=X_train.columns,\n",
    "        columns=[\"coefficient\"]\n",
    "    )\n",
    "\n",
    "    non_zero = np.sum(best_coefs.iloc[:, 0] != 0)\n",
    "    print(\"Number of non-zero coefficients: {}\".format(non_zero))\n",
    "\n",
    "    non_zero_coefs = best_coefs.query(\"coefficient != 0\")\n",
    "    coef_order = non_zero_coefs.abs().sort_values(\"coefficient\").index\n",
    "\n",
    "    _, ax = plt.subplots(figsize=(10, 4))\n",
    "    \n",
    "    \n",
    "    non_zero_coefs.loc[coef_order].iloc[len(non_zero_coefs) - 10:].plot.barh(ax=ax, legend=False)\n",
    "    ax.set_xlabel(\"coefficient\")\n",
    "    ax.grid(True)\n",
    "    if contains_number(model_string):\n",
    "        plt.title('Top 10 coefficients for {}'.format(model_string))\n",
    "    else:\n",
    "        plt.title('Top 10 coefficients for {}'.format(model_string))\n",
    "    plt.tight_layout()\n",
    "    plt.savefig('./figures/appendix/coefficients_results_{}'.format(model_string))\n",
    "    \n",
    "    "
   ]
  },
  {
   "cell_type": "code",
   "execution_count": null,
   "id": "faa12b61-683b-4956-be36-48e5dfddfcb6",
   "metadata": {},
   "outputs": [],
   "source": [
    "non_zero_coefs.index.name = 'feature'"
   ]
  },
  {
   "cell_type": "code",
   "execution_count": null,
   "id": "a7cb096e-3cdd-4fbb-9ce9-112899a567e3",
   "metadata": {},
   "outputs": [],
   "source": [
    "pd.option_context(\"max_colwidth\", 1000)"
   ]
  },
  {
   "cell_type": "code",
   "execution_count": null,
   "id": "b8e8c3bd-810d-4442-b099-3daa4ad0f769",
   "metadata": {},
   "outputs": [],
   "source": [
    "with pd.option_context(\"max_colwidth\", 1000):\n",
    "    print(non_zero_coefs.loc[coef_order].iloc[::-1].to_latex())"
   ]
  },
  {
   "cell_type": "code",
   "execution_count": null,
   "id": "693d594c-b68f-4334-8685-5cd086c7381f",
   "metadata": {},
   "outputs": [],
   "source": [
    "import eli5\n",
    "from eli5.sklearn import PermutationImportance\n",
    "\n",
    "if 'Random' in model_string:    \n",
    "    perm = PermutationImportance(pipe_pred, n_iter=1, random_state=42)\n",
    "    perm.fit(X_test, y_test)\n",
    "    \n"
   ]
  },
  {
   "cell_type": "code",
   "execution_count": null,
   "id": "957434e5-8073-4973-a27e-f2ebb30c95df",
   "metadata": {},
   "outputs": [],
   "source": [
    "if 'Random' in model_string:\n",
    "    best_coefs = pd.DataFrame(\n",
    "        perm.feature_importances_,\n",
    "        index=X_train.columns,\n",
    "        columns=[\"coefficient\"]\n",
    "    )\n",
    "\n",
    "    non_zero = np.sum(best_coefs.iloc[:, 0] != 0)\n",
    "    print(\"Number of non-zero coefficients: {}\".format(non_zero))\n",
    "\n",
    "    non_zero_coefs = best_coefs.query(\"coefficient != 0\")\n",
    "    coef_order = non_zero_coefs.abs().sort_values(\"coefficient\").index\n",
    "\n",
    "    _, ax = plt.subplots(figsize=(10, 4))\n",
    "    \n",
    "    \n",
    "    non_zero_coefs.loc[coef_order].iloc[len(non_zero_coefs) - 10:].plot.barh(ax=ax, legend=False)\n",
    "    ax.set_xlabel(\"relative feature importance\")\n",
    "    ax.grid(True)\n",
    "    if contains_number(model_string):\n",
    "        plt.title('Top 10 coefficients for {}'.format(model_string))\n",
    "    else:\n",
    "        plt.title('Relative feature importance  for {}'.format(model_string))\n",
    "    plt.tight_layout()\n",
    "    plt.savefig('./figures/appendix/coefficients_results_{}'.format(model_string))"
   ]
  },
  {
   "cell_type": "code",
   "execution_count": null,
   "id": "e8bf3cdc-7fb6-4e8a-aa9f-244c7a1908e2",
   "metadata": {},
   "outputs": [],
   "source": []
  },
  {
   "cell_type": "code",
   "execution_count": null,
   "id": "912ce947-26b3-4c7f-8870-df43005bfbb7",
   "metadata": {},
   "outputs": [],
   "source": [
    "best_coefs.index"
   ]
  },
  {
   "cell_type": "code",
   "execution_count": null,
   "id": "2dad6e80-e4cf-4b63-917e-38a4ba50c404",
   "metadata": {},
   "outputs": [],
   "source": [
    "if 'Random' in model_string:\n",
    "    best_coefs = pd.DataFrame(\n",
    "        perm.feature_importances_,\n",
    "        index=X_train.columns,\n",
    "        columns=[\"coefficient\"]\n",
    "    )\n",
    "    non_zero = np.sum(best_coefs.iloc[:, 0] != 0)\n",
    "    print(\"Number of non-zero coefficients: {}\".format(non_zero))\n",
    "\n",
    "    non_zero_coefs = best_coefs.query(\"coefficient > 0\")\n",
    "    coef_order = non_zero_coefs.abs().sort_values(\"coefficient\").index\n",
    "\n",
    "    _, ax = plt.subplots(figsize=(12, 12))\n",
    "    \n",
    "    non_zero_coefs.loc[coef_order].plot.barh(ax=ax, legend=False)\n",
    "    ax.set_xlabel(\"relative feature importance\")\n",
    "    ax.grid(True)\n",
    "    if contains_number(model_string):\n",
    "        plt.title('Coefficients for {}'.format(model_string))\n",
    "    else:\n",
    "        plt.title('Relative feature importance for {}'.format(model_string))\n",
    "    plt.tight_layout()\n",
    "    plt.savefig('./figures/appendix/coefficients_{}'.format(model_string))"
   ]
  },
  {
   "cell_type": "code",
   "execution_count": null,
   "id": "3bc571f1-8464-4d73-a2db-01f25d22a677",
   "metadata": {},
   "outputs": [],
   "source": [
    "with pd.option_context(\"max_colwidth\", 1000):\n",
    "    print(non_zero_coefs.loc[coef_order].iloc[::-1].to_latex())\n",
    "    "
   ]
  },
  {
   "cell_type": "code",
   "execution_count": null,
   "id": "2a6cbc27-7a17-4332-9bda-cafa445d2fd2",
   "metadata": {},
   "outputs": [],
   "source": [
    "# pd.DataFrame(perm.feature_importances_, index = X_train.columns.tolist()).sort_values(by=0)"
   ]
  },
  {
   "cell_type": "markdown",
   "id": "04bf622c-cf85-4dd4-a698-ad0116bbc8b2",
   "metadata": {},
   "source": [
    "# Brier score"
   ]
  },
  {
   "cell_type": "code",
   "execution_count": null,
   "id": "8ad571a0-d8df-4d21-abd7-74e4598ecdc9",
   "metadata": {},
   "outputs": [],
   "source": [
    "lower, upper = np.percentile(y_train[\"duration\"], [0, 90])\n",
    "times = np.arange(lower, upper + 1)"
   ]
  },
  {
   "cell_type": "code",
   "execution_count": null,
   "id": "18b1b410-70ca-4617-adcb-0eeddd004b7a",
   "metadata": {},
   "outputs": [],
   "source": [
    "model_surv_prob = np.row_stack([\n",
    "    fn(times)\n",
    "    for fn in pipe_pred.predict_survival_function(X_test)\n",
    "])\n",
    "\n",
    "train_surv_prob = np.row_stack([\n",
    "    fn(times)\n",
    "    for fn in pipe_pred.predict_survival_function(X_train)\n",
    "])"
   ]
  },
  {
   "cell_type": "code",
   "execution_count": null,
   "id": "6c45d756-5974-44f9-847a-fd265c6fb00e",
   "metadata": {},
   "outputs": [],
   "source": [
    "model_brier = integrated_brier_score(y_train, y_test, model_surv_prob, times)"
   ]
  },
  {
   "cell_type": "code",
   "execution_count": null,
   "id": "813e99b0-a6bd-4f7c-95db-7c79c2cffad3",
   "metadata": {},
   "outputs": [],
   "source": [
    "test_brier = integrated_brier_score(y_train, y_test, model_surv_prob, times)\n",
    "train_brier = integrated_brier_score(y_train, y_train, train_surv_prob, times)"
   ]
  },
  {
   "cell_type": "code",
   "execution_count": null,
   "id": "2d0310dc-2e99-4d60-b60d-0dfa3d62e767",
   "metadata": {},
   "outputs": [],
   "source": [
    "train_brier"
   ]
  },
  {
   "cell_type": "code",
   "execution_count": null,
   "id": "080ea82e-2c0a-4f66-8a04-a1b4bfeadbd1",
   "metadata": {},
   "outputs": [],
   "source": [
    "test_brier"
   ]
  },
  {
   "cell_type": "code",
   "execution_count": null,
   "id": "b2648545-9b6d-4eae-b2b1-0b525c35f29e",
   "metadata": {},
   "outputs": [],
   "source": [
    "# from sksurv.functions import StepFunction\n",
    "# from sksurv.nonparametric import kaplan_meier_estimator\n",
    "\n",
    "# km_func = StepFunction(*kaplan_meier_estimator(y_test[\"label\"], y_test[\"duration\"]))\n",
    "# km_surv_prob = np.tile(km_func(times), (y_test.shape[0], 1))"
   ]
  },
  {
   "cell_type": "code",
   "execution_count": null,
   "id": "e6ecdc24-1944-40f4-ae50-ac98bab5f131",
   "metadata": {},
   "outputs": [],
   "source": [
    "# km_brier = integrated_brier_score(y_train, y_test, km_surv_prob, times)"
   ]
  },
  {
   "cell_type": "code",
   "execution_count": null,
   "id": "4835d270-96a0-4462-a985-d3e37e90c628",
   "metadata": {},
   "outputs": [],
   "source": [
    "# km_brier"
   ]
  },
  {
   "cell_type": "code",
   "execution_count": null,
   "id": "a9c2ca6b-7f42-41a4-804b-37a0457ea284",
   "metadata": {},
   "outputs": [],
   "source": [
    "random_surv_prob = 0.5 * np.ones((y_test.shape[0], times.shape[0]))\n",
    "random_brier = integrated_brier_score(y_train, y_test, random_surv_prob, times)"
   ]
  },
  {
   "cell_type": "code",
   "execution_count": null,
   "id": "f6579f86-3721-4495-8075-be164ed1b59a",
   "metadata": {},
   "outputs": [],
   "source": [
    "random_brier"
   ]
  },
  {
   "cell_type": "code",
   "execution_count": null,
   "id": "0d3d217d-d38c-4162-b060-aed9f640208a",
   "metadata": {},
   "outputs": [],
   "source": []
  },
  {
   "cell_type": "code",
   "execution_count": null,
   "id": "08664867-9508-48c1-a85f-685eb4a578b3",
   "metadata": {},
   "outputs": [],
   "source": [
    "train_score = pipe_pred.score(X_train, y_train)\n",
    "test_score = pipe_pred.score(X_test, y_test)\n"
   ]
  },
  {
   "cell_type": "code",
   "execution_count": null,
   "id": "64191758-eada-49dd-9e63-e1d5eb20d79d",
   "metadata": {},
   "outputs": [],
   "source": [
    "pd.DataFrame([[train_score, train_brier, test_score, test_brier]], columns = ['c-index train', 'brier train', 'c-index test', 'brier test'])"
   ]
  },
  {
   "cell_type": "code",
   "execution_count": null,
   "id": "7b4c77de-3153-4814-b455-e1f7d1ca4777",
   "metadata": {},
   "outputs": [],
   "source": [
    "len(X_train.columns)"
   ]
  },
  {
   "cell_type": "code",
   "execution_count": null,
   "id": "4538fdba-f179-46c0-843d-fb73d6206495",
   "metadata": {},
   "outputs": [],
   "source": [
    "X_test"
   ]
  },
  {
   "cell_type": "code",
   "execution_count": null,
   "id": "0ef5e025-de4d-4794-b753-2ad0a6e5e41b",
   "metadata": {},
   "outputs": [],
   "source": [
    "surv = pipe_pred.predict_survival_function(X_test)"
   ]
  },
  {
   "cell_type": "code",
   "execution_count": null,
   "id": "9c8f9090-756f-4308-923f-f14a4970151c",
   "metadata": {},
   "outputs": [],
   "source": [
    "# surv = pipe_pred.predict_survival_function(X_test.iloc[6000:6006], return_array=True)\n",
    "\n",
    "# for i, s in enumerate(surv):\n",
    "#     plt.step(pipe_pred.named_steps['randomsurvivalforest'].event_times_, s, where=\"post\", label=str(i))\n",
    "# plt.ylabel(\"Cumulative hazard\")\n",
    "# plt.xlabel(\"Time in days\")\n",
    "# plt.legend()\n",
    "# plt.grid(True)"
   ]
  },
  {
   "cell_type": "code",
   "execution_count": null,
   "id": "3e4d80f0-cadc-4d62-ad1b-cb3834a190de",
   "metadata": {},
   "outputs": [],
   "source": [
    "cum_hazard = pipe_pred.predict_cumulative_hazard_function(X_test, return_array= True)"
   ]
  },
  {
   "cell_type": "code",
   "execution_count": null,
   "id": "477f5c92-8c73-46bb-9566-de16e89929d5",
   "metadata": {},
   "outputs": [],
   "source": [
    "# cum_hazard"
   ]
  },
  {
   "cell_type": "code",
   "execution_count": null,
   "id": "7efed4f7-6c7b-4b83-984f-533cdaa3cdb8",
   "metadata": {},
   "outputs": [],
   "source": [
    "test_labels['predicted_tte'] = [np.argmax(x > 1)  if np.amax(x) >= 1 else 10000 for x in cum_hazard ]"
   ]
  },
  {
   "cell_type": "code",
   "execution_count": null,
   "id": "16435599-46ef-466c-9e06-8ee228adbe78",
   "metadata": {},
   "outputs": [],
   "source": [
    "test_labels"
   ]
  },
  {
   "cell_type": "code",
   "execution_count": null,
   "id": "58aa47fe-e449-4a1c-96f0-95743a449bf2",
   "metadata": {},
   "outputs": [],
   "source": [
    "test_labels['predicted_tte'].value_counts()"
   ]
  },
  {
   "cell_type": "code",
   "execution_count": null,
   "id": "ba0a706e-2d14-4577-b36f-07dcaad4a4d1",
   "metadata": {},
   "outputs": [],
   "source": [
    "predicted_tte = pd.concat([test_data[['days_in_execution_phase', 'dossier_nr']], test_labels], axis=1)\n",
    "predicted_tte"
   ]
  },
  {
   "cell_type": "code",
   "execution_count": null,
   "id": "a63d9a09-8180-4fdb-824c-8f4d08eb8e2e",
   "metadata": {},
   "outputs": [],
   "source": [
    "event_log = pd.read_csv('./data/dossiers v2 - event log.csv').dropna()\n",
    "for col in ['datum_van', 'datum_tot', 'datum_actie']:\n",
    "    event_log[col] = pd.to_datetime(event_log[col])\n",
    "event_log['days_in_execution_phase'] = (event_log['datum_actie'] - event_log['datum_van']).dt.days\n",
    "event_log"
   ]
  },
  {
   "cell_type": "code",
   "execution_count": null,
   "id": "6cf44fd8-14a0-4be0-a2ac-cc32ea67a9a3",
   "metadata": {},
   "outputs": [],
   "source": [
    "(event_log['datum_tot'] - event_log['datum_van']).dt.days"
   ]
  },
  {
   "cell_type": "code",
   "execution_count": null,
   "id": "32929b3a-df26-40fc-b3f1-b0eb6265611f",
   "metadata": {},
   "outputs": [],
   "source": [
    "columns = ['tipping_point', 'total_events', 'total_days', 'total_payments', 'sa_events', 'sa_payments', 'sa_days', 'percentage_events', 'percentage_payments', 'percentage_days']\n",
    "res = pd.DataFrame(columns = columns)\n",
    "\n",
    "# range(0, 600, 30)\n",
    "for tipping_point in range(0, 600, 30):   # [90, 180, 270, 360, 450]\n",
    "    print(\"Calculating for {}\".format(tipping_point))\n",
    "    total_days = 0\n",
    "    total_events = 0\n",
    "    total_payments = 0\n",
    "    \n",
    "    sa_days = 0\n",
    "    sa_events = 0\n",
    "    sa_payments = 0\n",
    "\n",
    "    for i, data in predicted_tte.iterrows():\n",
    "        filtered_event_log = event_log[(event_log.dossier_nr == data.dossier_nr) & (event_log.days_in_execution_phase >= data.days_in_execution_phase)]\n",
    "        nr_events = len(filtered_event_log)\n",
    "        \n",
    "\n",
    "        total_events += nr_events\n",
    "        total_payments += data.label\n",
    "        total_days += data.duration\n",
    "\n",
    "        if data.predicted_tte < tipping_point:\n",
    "            sa_events += nr_events\n",
    "            sa_payments += data.label\n",
    "            sa_days += data.duration\n",
    "            \n",
    "    res = res.append(pd.DataFrame([[tipping_point, total_events, total_payments, total_days, sa_events, sa_payments, sa_days, sa_events/total_events, sa_payments/total_payments, sa_days/total_days]], columns = columns))       \n",
    "    "
   ]
  },
  {
   "cell_type": "code",
   "execution_count": null,
   "id": "f121ffac-21ad-4e61-967f-70ac9a4359fc",
   "metadata": {},
   "outputs": [],
   "source": [
    "res"
   ]
  },
  {
   "cell_type": "code",
   "execution_count": null,
   "id": "0263e558-52d9-4ab8-ba1e-6bb66ab3b350",
   "metadata": {},
   "outputs": [],
   "source": [
    "kopy = res.copy()\n",
    "# kopy = kopy.set_index('tipping_point')\n",
    "kopy = kopy.melt('tipping_point', var_name='cols', value_name='vals')\n",
    "kopy =kopy[(kopy['cols'] == 'percentage_events') | (kopy['cols'] == 'percentage_payments')]\n",
    "kopy['vals'] = kopy['vals'] * 100"
   ]
  },
  {
   "cell_type": "code",
   "execution_count": null,
   "id": "da3cbbde-5acb-4485-a30e-5e4b1eb6c4c3",
   "metadata": {},
   "outputs": [],
   "source": [
    "kopy['tipping_point'] = kopy['tipping_point'].astype('int')\n",
    "kopy['vals'] = pd.to_numeric(kopy['vals'], downcast=\"float\")"
   ]
  },
  {
   "cell_type": "code",
   "execution_count": null,
   "id": "c84c55f7-99a6-4ca0-a55f-bd9dd9a259df",
   "metadata": {},
   "outputs": [],
   "source": [
    "kopy.columns = ['Tipping Point', 'Label', 'Percentage']"
   ]
  },
  {
   "cell_type": "code",
   "execution_count": null,
   "id": "0b3265cf-ee3d-4635-9ef3-3ab5b75e06fe",
   "metadata": {},
   "outputs": [],
   "source": [
    "kopy['Label'] = kopy['Label'].apply(lambda x: 'Percentage of actions' if x == 'percentage_events' else 'Percentage of repayments' )"
   ]
  },
  {
   "cell_type": "code",
   "execution_count": null,
   "id": "42c387cd-1880-4d40-84e0-11251de96dc3",
   "metadata": {},
   "outputs": [],
   "source": [
    "import seaborn as sns\n",
    "sns.lineplot(data=kopy[kopy['Tipping Point'] < 600], x='Tipping Point', y='Percentage', hue='Label').set_title('Percentage of events and payments vs chosen mpt')\n",
    "plt.xlabel('Maximum predicted time')\n",
    "plt.tight_layout()\n",
    "plt.savefig('./figures/policy')"
   ]
  },
  {
   "cell_type": "code",
   "execution_count": null,
   "id": "69aa0996-1081-4b10-8170-d1823a52e3be",
   "metadata": {},
   "outputs": [],
   "source": [
    "tikkie = res.drop(['total_events', 'total_payments'], axis=1)\n",
    "tikkie.columns = ['mpt', 'Nr. events', 'Nr. payments', '% events', '% payments']"
   ]
  },
  {
   "cell_type": "code",
   "execution_count": null,
   "id": "f8f1301c-a843-4180-a5e8-576855feeb88",
   "metadata": {},
   "outputs": [],
   "source": [
    "tikkie['% events'] = (tikkie['% events'] * 100).round(2)\n",
    "tikkie['% payments'] = (tikkie['% payments'] * 100).round(2)"
   ]
  },
  {
   "cell_type": "code",
   "execution_count": null,
   "id": "35de2154-275b-4471-bd83-2ea10142feea",
   "metadata": {},
   "outputs": [],
   "source": [
    "tikkie"
   ]
  },
  {
   "cell_type": "code",
   "execution_count": null,
   "id": "f03bb0b4-5881-4176-b9fb-3f1bbac0cd86",
   "metadata": {},
   "outputs": [],
   "source": [
    "0/0"
   ]
  },
  {
   "cell_type": "code",
   "execution_count": null,
   "id": "5e3af852-3527-4e41-9948-e64a27cca382",
   "metadata": {},
   "outputs": [],
   "source": [
    "tikkie.iloc[2:]['Nr. events'] / tikkie.iloc[2:]['Nr. payments']"
   ]
  },
  {
   "cell_type": "code",
   "execution_count": null,
   "id": "88264b85-240e-455a-8b1d-092672ae46f8",
   "metadata": {},
   "outputs": [],
   "source": [
    "print(tikkie.iloc[1:].to_latex(index=False))"
   ]
  },
  {
   "cell_type": "code",
   "execution_count": null,
   "id": "36abc663-a649-4892-9a6c-d58c1a4576a2",
   "metadata": {},
   "outputs": [],
   "source": []
  },
  {
   "cell_type": "code",
   "execution_count": null,
   "id": "4679d4c9-b32b-4986-ae19-124ae92570b5",
   "metadata": {},
   "outputs": [],
   "source": []
  },
  {
   "cell_type": "code",
   "execution_count": null,
   "id": "37e47a9d-b439-452d-8877-4eca1bba508e",
   "metadata": {},
   "outputs": [],
   "source": []
  },
  {
   "cell_type": "code",
   "execution_count": null,
   "id": "0367f36d-4bac-404d-8654-6efc38e297ec",
   "metadata": {},
   "outputs": [],
   "source": []
  }
 ],
 "metadata": {
  "kernelspec": {
   "display_name": "Python 3",
   "language": "python",
   "name": "python3"
  },
  "language_info": {
   "codemirror_mode": {
    "name": "ipython",
    "version": 3
   },
   "file_extension": ".py",
   "mimetype": "text/x-python",
   "name": "python",
   "nbconvert_exporter": "python",
   "pygments_lexer": "ipython3",
   "version": "3.8.10"
  }
 },
 "nbformat": 4,
 "nbformat_minor": 5
}
