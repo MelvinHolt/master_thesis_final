{
 "cells": [
  {
   "cell_type": "code",
   "execution_count": null,
   "id": "563c4d25-bfc7-4b78-9886-0ec8e423b9d9",
   "metadata": {},
   "outputs": [],
   "source": [
    "import pandas as pd\n",
    "import numpy as np"
   ]
  },
  {
   "cell_type": "code",
   "execution_count": null,
   "id": "1faeacd8-5ffe-4980-a803-db5359cf2bb3",
   "metadata": {},
   "outputs": [],
   "source": [
    "event_log = pd.read_csv('./data/BPM_event_log.csv', index_col = 0)"
   ]
  },
  {
   "cell_type": "code",
   "execution_count": null,
   "id": "2b8e4acd-e564-47f9-a9e1-6ea676075ee1",
   "metadata": {},
   "outputs": [],
   "source": [
    "event_log"
   ]
  },
  {
   "cell_type": "code",
   "execution_count": null,
   "id": "7a4c02a6-a1b9-490a-93d8-97788d706d2d",
   "metadata": {},
   "outputs": [],
   "source": [
    "event_log[(event_log['actie_code'] == 311) & (event_log.bedrag_betaling == 0)]"
   ]
  },
  {
   "cell_type": "code",
   "execution_count": null,
   "id": "e75c7f4c-9d26-48ac-aeec-6cac2f8789fd",
   "metadata": {},
   "outputs": [],
   "source": [
    "event_log = pd.read_csv('./data/BPM_event_log_cutoff.csv')"
   ]
  },
  {
   "cell_type": "code",
   "execution_count": null,
   "id": "f286bb33-46a8-4d07-a4d4-aff338a1f835",
   "metadata": {},
   "outputs": [],
   "source": [
    "event_log"
   ]
  },
  {
   "cell_type": "code",
   "execution_count": null,
   "id": "c2504f1d-71fc-455a-b428-eda08c4d973f",
   "metadata": {},
   "outputs": [],
   "source": [
    "event_log.loc[event_log.actie_omschrijving == '[790] uitgaande_exploot_deurwaarder-beslag werkgever/uitkerende instantie']"
   ]
  },
  {
   "cell_type": "code",
   "execution_count": null,
   "id": "384c305a-6b4a-4440-9194-6390cc960de8",
   "metadata": {},
   "outputs": [],
   "source": [
    "event_log.action.value_counts()"
   ]
  },
  {
   "cell_type": "code",
   "execution_count": null,
   "id": "5aa9e004-6687-4cd6-bff5-136af33b99ab",
   "metadata": {},
   "outputs": [],
   "source": [
    "case_coverage = [{'activity' : activity, 'nr_of_cases' : event_log[event_log['action'] == activity]['dossier_nr'].nunique()} for activity in event_log['action'].unique()]\n",
    "case_coverage_df = pd.DataFrame(case_coverage)\n",
    "case_coverage_df"
   ]
  },
  {
   "cell_type": "code",
   "execution_count": null,
   "id": "32371ba6-51cc-4fd1-8518-029128ef3327",
   "metadata": {},
   "outputs": [],
   "source": [
    "case_coverage_df = case_coverage_df[case_coverage_df.nr_of_cases > event_log['dossier_nr'].nunique() * 0.05]"
   ]
  },
  {
   "cell_type": "code",
   "execution_count": null,
   "id": "0a2e454b-4268-4166-9508-c97afeab373c",
   "metadata": {},
   "outputs": [],
   "source": [
    "case_coverage_df"
   ]
  },
  {
   "cell_type": "code",
   "execution_count": null,
   "id": "90a65bb7-b3e9-4c00-9231-1af64e71d4b5",
   "metadata": {},
   "outputs": [],
   "source": [
    "case_coverage_df['activity'].tolist()"
   ]
  },
  {
   "cell_type": "code",
   "execution_count": null,
   "id": "ef094065-bc00-49ab-a7ba-56bbb98ab0b5",
   "metadata": {},
   "outputs": [],
   "source": [
    "mapping = {'[580] uitgaande_bevraging_SNG-UWV RINUS': 'Outgoing inquiry SNG - Employee insurance agency',\n",
    " '[260] uitgaande_email_debiteur-debiteur e-mail rz': 'Outgoing email debtor foreclosure on goods',\n",
    " '[220] inkomende_telefoon_debiteur-inkomende telefoon debiteur: vraag / toelichting': 'Incoming call debtor: Question',\n",
    " '[580] uitgaande_bevraging_SNG-Evoi bericht verzonden': 'Outgoing inquiry SNG - Request wage information',\n",
    " '[580] uitgaande_bevraging_SNG-info BRP': 'Outgoing inquiry SNG - Info population register',\n",
    " '[540] inkomende_bevraging_SNG-Inkomende post derde: BRP positief': 'Incoming inquiry SNG - Info population register positive',\n",
    " '[790] uitgaande_exploot_deurwaarder-beslag werkgever/uitkerende instantie': 'Wage garnishment at employer',\n",
    " '[540] inkomende_bevraging_SNG-DBR  JJ niet verdeler' : 'Incoming inquiry SNG - Collector is first collector' ,\n",
    " '[790] uitgaande_exploot_deurwaarder-betekening beslag werkgever': 'Wage garnishment notifying debtor',\n",
    " '[260] uitgaande_email_debiteur-debiteur e-mail accoord regeling': 'Outgoing email - Agreement repayment plan',\n",
    " '[220] inkomende_telefoon_debiteur-inkomende telefoon debiteur: verzoek regeling (akkoord)': 'Request repayment plan by debtor',\n",
    " 'payment': 'Payment',\n",
    " '[790] uitgaande_exploot_deurwaarder-betekening beslag onder een derde': 'Official act bailiff - Bank repossession of third party',\n",
    " '[350] uitgaande_post_derde-werkgever info arbeids/uitkeringsrelatie' : 'Outgoing letter employer- Info employee relation',\n",
    " 'unsuccesful payment': 'Unsuccesful Payment',\n",
    " '[260] uitgaande_email_debiteur-debiteur e-mail opgave restant': 'Outgoing email debtor - Outstanding remaining debt',\n",
    " '[360] uitgaande_email_derde-werkgever e-mail info arbeids/uitkeringsrelatie': 'Outgoing email employer - Info employee relation',\n",
    " '[540] inkomende_bevraging_SNG-Inkomende post derde: informatieverzoek dienstbetrekking': 'Incoming inquiry SNG - Info employment',\n",
    " '[260] uitgaande_email_debiteur-debiteur e-mail doorsturen verkl werkgever/uitk. instantie': 'Forward email employer/benefit agency statement',\n",
    " '[999] overige_aantekeningen-Negatieve reactie UWV': 'Negative reaction employee insurance agency',\n",
    " '[790] uitgaande_exploot_deurwaarder-beslag onder bank E-BESLAG': 'Official act bailiff - Bank repossession',\n",
    " '[260] uitgaande_email_debiteur-debiteur e-mail achterstand regeling FASE EXECUTIE' : 'Outgoing debtor email late payment repayment plan',\n",
    " '[260] uitgaande_email_debiteur-debiteur e-mail achterstand regeling': 'Outgoing debtor email late payment repayment plan',\n",
    " '[250] uitgaande_post_debiteur-debiteur rz': 'Outgoing letter debtor - Debtor foreclosure on goods',\n",
    " '[270] uitgaande_telefoon_debiteur-uitgaande telefoon debiteur (algemeen)' : 'Outgoing call debtor (general)',\n",
    " '[580] uitgaande_bevraging_SNG-info RDW op naam': 'Outgoing inquiry SNG - Info car ownership',\n",
    " '[540] inkomende_bevraging_SNG-Inkomende post derde: debiteur is bekend bij RDW': 'Incoming inquiry SNG - Debtor is registered car owner',\n",
    " '[790] uitgaande_exploot_deurwaarder-BESLAGEXPLOOT ROERENDE ZAKEN (VIA DEK)': 'Official act bailiff - Foreclosure on goods',\n",
    " '[250] uitgaande_post_debiteur-MUTATIEFORMULIER ROERENDE ZAKEN': 'Outgoing letter debtor - Notice of foreclosure on goods',\n",
    " '[250] uitgaande_post_debiteur-BESLAGPOGING ROERENDE ZAKEN - 1E BEZOEK (VIA DEK)': 'Outgoing letter debtor - Notice of foreclosure on goods',\n",
    " '[250] uitgaande_post_debiteur-BESLAGPOGING ROERENDE ZAKEN – KENNISGEVING VERGEEFS BESLAG': 'Outgoing letter debtor - Notice of foreclosure on goods 2',\n",
    " '[250] uitgaande_post_debiteur-BESLAGPOGING ROERENDE ZAKEN - KENNISGEVING BESLAG': 'Outgoing letter debtor - Notice of foreclosure on goods 3',\n",
    " '[250] uitgaande_post_debiteur-debiteur doorsturen verklaring werkgever/uitk. instantie': 'Forward letter employer/benefit agency statement'}"
   ]
  },
  {
   "cell_type": "code",
   "execution_count": null,
   "id": "3e82d426-0b5b-4904-800d-89d6794f1ed2",
   "metadata": {},
   "outputs": [],
   "source": [
    "test = event_log.replace(mapping)"
   ]
  },
  {
   "cell_type": "code",
   "execution_count": null,
   "id": "ace72329-6214-426b-a9b8-3969c2c5f43f",
   "metadata": {},
   "outputs": [],
   "source": [
    "test = test[test['action'].isin(mapping.values())]"
   ]
  },
  {
   "cell_type": "code",
   "execution_count": null,
   "id": "785eb4d8-d8e5-4ca8-85e2-8b34a410b552",
   "metadata": {},
   "outputs": [],
   "source": [
    "test.to_csv('./data/BPM_event_log_translated.csv')"
   ]
  },
  {
   "cell_type": "code",
   "execution_count": null,
   "id": "cae6a4f8-84f1-4635-9bfe-c9c419a8dbbe",
   "metadata": {},
   "outputs": [],
   "source": []
  }
 ],
 "metadata": {
  "kernelspec": {
   "display_name": "Python 3",
   "language": "python",
   "name": "python3"
  },
  "language_info": {
   "codemirror_mode": {
    "name": "ipython",
    "version": 3
   },
   "file_extension": ".py",
   "mimetype": "text/x-python",
   "name": "python",
   "nbconvert_exporter": "python",
   "pygments_lexer": "ipython3",
   "version": "3.8.10"
  }
 },
 "nbformat": 4,
 "nbformat_minor": 5
}
