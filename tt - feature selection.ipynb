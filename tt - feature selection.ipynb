{
 "cells": [
  {
   "cell_type": "code",
   "execution_count": null,
   "id": "3e098eb5-342b-4894-8c4a-6ed2370bb9b0",
   "metadata": {},
   "outputs": [],
   "source": [
    "import pandas as pd\n",
    "import numpy as np\n",
    "from sklearn.model_selection import train_test_split"
   ]
  },
  {
   "cell_type": "code",
   "execution_count": null,
   "id": "69c82cc7-0c6e-435d-a482-24e69396f66a",
   "metadata": {},
   "outputs": [],
   "source": [
    "import pandas as pd\n",
    "import numpy as np\n",
    "import matplotlib.pyplot as plt\n",
    "%matplotlib inline\n",
    "\n",
    "from sksurv.datasets import load_breast_cancer\n",
    "from sksurv.linear_model import CoxPHSurvivalAnalysis, CoxnetSurvivalAnalysis\n",
    "from sksurv.preprocessing import OneHotEncoder\n",
    "\n",
    "from sklearn.model_selection import GridSearchCV, KFold\n",
    "from sklearn.pipeline import make_pipeline\n",
    "from sklearn.preprocessing import StandardScaler, MinMaxScaler"
   ]
  },
  {
   "cell_type": "code",
   "execution_count": null,
   "id": "1177d785-3d78-44dd-8ad0-127603b713e3",
   "metadata": {},
   "outputs": [],
   "source": [
    "data = pd.read_csv('./data/complete_dataset_v3.csv', index_col = 0)\n",
    "data"
   ]
  },
  {
   "cell_type": "code",
   "execution_count": null,
   "id": "bd017b54-bc5f-4ba5-92ed-eb5bbe9240ac",
   "metadata": {},
   "outputs": [],
   "source": [
    "data = data.rename(columns={\"debtor_last_contact\": \"days_since_last_contact\"})"
   ]
  },
  {
   "cell_type": "code",
   "execution_count": null,
   "id": "ef35832a-1a3e-4f89-a7d7-a83de7780aa2",
   "metadata": {},
   "outputs": [],
   "source": [
    "data = data.drop([ 'action_Outgoing letter debtor - Notice of foreclosure on goods 2',\n",
    "       'action_Outgoing letter debtor - Notice of foreclosure on goods 3'], axis = 1)"
   ]
  },
  {
   "cell_type": "code",
   "execution_count": null,
   "id": "a0e0a790-c2fa-4a2f-be33-e4436793138f",
   "metadata": {},
   "outputs": [],
   "source": [
    "data.columns"
   ]
  },
  {
   "cell_type": "code",
   "execution_count": null,
   "id": "d64f0171-9fc7-4b2b-a751-f068ef56bc42",
   "metadata": {},
   "outputs": [],
   "source": [
    "labels = pd.read_csv('./data/labels.csv', index_col = 'dossier_nr')\n",
    "labels"
   ]
  },
  {
   "cell_type": "code",
   "execution_count": null,
   "id": "ed309b99-aa1b-4fd3-b760-719715869df8",
   "metadata": {},
   "outputs": [],
   "source": [
    "labels = pd.read_csv('./data/labels.csv', index_col=0)\n",
    "labels = labels[labels.index.isin(data['dossier_nr'].unique())]\n",
    "labels = labels.reset_index()\n",
    "labels.head()"
   ]
  },
  {
   "cell_type": "markdown",
   "id": "5d1ecf41-4458-46be-8bf1-249ba55b1eff",
   "metadata": {},
   "source": [
    "# Splitting train test dossiers"
   ]
  },
  {
   "cell_type": "code",
   "execution_count": null,
   "id": "563c22bb-4ae9-46f3-a59c-20338894d209",
   "metadata": {},
   "outputs": [],
   "source": [
    "dossier_info = pd.read_excel('./data/debtors info.xlsx')\n",
    "dossier_info = dossier_info[dossier_info.dossier_nr.isin(labels.dossier_nr)]"
   ]
  },
  {
   "cell_type": "code",
   "execution_count": null,
   "id": "9771bba0-3656-44d4-aa42-b16c550713a1",
   "metadata": {},
   "outputs": [],
   "source": [
    "for col in ['datum_afsluiten']:\n",
    "#     labels[col] = pd.to_datetime(labels[col])\n",
    "    dossier_info[col] = pd.to_datetime(dossier_info[col])"
   ]
  },
  {
   "cell_type": "code",
   "execution_count": null,
   "id": "a569cbac-a19c-426a-8cef-b7da5060dd2c",
   "metadata": {},
   "outputs": [],
   "source": [
    "labels = labels.sort_values(by='case_end')"
   ]
  },
  {
   "cell_type": "code",
   "execution_count": null,
   "id": "17145249-f730-4d08-b718-b00c061e44ba",
   "metadata": {},
   "outputs": [],
   "source": [
    "\n",
    "sorterIndex = dict(zip(labels.dossier_nr, range(len(labels))))"
   ]
  },
  {
   "cell_type": "code",
   "execution_count": null,
   "id": "59f27250-9799-4ffc-889f-4ece8c2e098f",
   "metadata": {},
   "outputs": [],
   "source": [
    "data"
   ]
  },
  {
   "cell_type": "code",
   "execution_count": null,
   "id": "5ac69eab-6c39-49c7-8c26-91aac2967c31",
   "metadata": {},
   "outputs": [],
   "source": [
    "data['Tm_Rank'] = data['dossier_nr'].map(sorterIndex)"
   ]
  },
  {
   "cell_type": "code",
   "execution_count": null,
   "id": "b30f6f7c-cbe1-4ab7-a513-6f97af40d75e",
   "metadata": {},
   "outputs": [],
   "source": [
    "data = data.sort_values(by='Tm_Rank')"
   ]
  },
  {
   "cell_type": "code",
   "execution_count": null,
   "id": "c61f7c87-0cb9-4bb9-9926-616d45b6cbea",
   "metadata": {},
   "outputs": [],
   "source": [
    "data = data.drop(['Tm_Rank'], axis=1)"
   ]
  },
  {
   "cell_type": "code",
   "execution_count": null,
   "id": "84612e30-0d6d-4e2e-81f5-9211309a7d5b",
   "metadata": {},
   "outputs": [],
   "source": [
    "flip_time = np.datetime64('2020-10-06')"
   ]
  },
  {
   "cell_type": "code",
   "execution_count": null,
   "id": "fffdd5c8-cb31-4f9f-8e49-918f7a83bd35",
   "metadata": {},
   "outputs": [],
   "source": [
    "# labels_train = labels[labels.case_end < flip_time]\n",
    "# labels_test = labels[labels.case_end >= flip_time]"
   ]
  },
  {
   "cell_type": "code",
   "execution_count": null,
   "id": "a9da33da-02f2-4632-8c0d-912516658900",
   "metadata": {},
   "outputs": [],
   "source": [
    "dossiers_train = dossier_info[dossier_info.datum_afsluiten < flip_time] \n",
    "dossiers_test = dossier_info[dossier_info.datum_afsluiten >= flip_time]"
   ]
  },
  {
   "cell_type": "code",
   "execution_count": null,
   "id": "6fe95547-58d6-495a-b06e-9fee63cd4b85",
   "metadata": {},
   "outputs": [],
   "source": [
    "data = data.drop('case_end', axis=1)"
   ]
  },
  {
   "cell_type": "code",
   "execution_count": null,
   "id": "f082095c-4f97-41fd-ae4c-e41645abd577",
   "metadata": {},
   "outputs": [],
   "source": [
    "# data = data[data.duration <= 150]"
   ]
  },
  {
   "cell_type": "code",
   "execution_count": null,
   "id": "50b358c4-8460-462e-ac55-2bca0fab9282",
   "metadata": {},
   "outputs": [],
   "source": [
    "train_data = data[data.dossier_nr.isin(dossiers_train.dossier_nr)]\n",
    "test_data = data[(data.dossier_nr.isin(dossiers_test.dossier_nr))]"
   ]
  },
  {
   "cell_type": "code",
   "execution_count": null,
   "id": "116f7a00-a1f5-45a4-b78b-e6726d5d5cc5",
   "metadata": {},
   "outputs": [],
   "source": [
    "train_data.to_csv('./data/train_data.csv')\n",
    "test_data.to_csv('./data/test_data.csv')"
   ]
  },
  {
   "cell_type": "markdown",
   "id": "f4713060-ae78-46eb-8f39-08de413d11fc",
   "metadata": {},
   "source": [
    "### Train set"
   ]
  },
  {
   "cell_type": "code",
   "execution_count": null,
   "id": "9f6b8623-c76f-409b-adcf-0f9aff5c5367",
   "metadata": {},
   "outputs": [],
   "source": [
    "X_train = train_data.drop(['label','duration'], axis = 1)\n",
    "y_train = train_data.loc[:, ['label', 'duration']]\n",
    "\n",
    "y_train['label'] = y_train['label'].apply(lambda x: True if x else False)\n",
    "y_train = np.array(y_train.to_records(index=False))"
   ]
  },
  {
   "cell_type": "markdown",
   "id": "1862d4de-e671-46f7-b81c-200012cd7fd7",
   "metadata": {},
   "source": [
    "### Test set"
   ]
  },
  {
   "cell_type": "code",
   "execution_count": null,
   "id": "0e561cc5-68db-44ff-b3d1-916f6fedf523",
   "metadata": {},
   "outputs": [],
   "source": [
    "X_test = test_data.drop(['label','duration'], axis = 1)\n",
    "y_test = test_data.loc[:, ['label', 'duration']]\n",
    "\n",
    "y_test['label'] = y_test['label'].apply(lambda x: True if x else False)\n",
    "y_test = np.array(y_test.to_records(index=False))"
   ]
  },
  {
   "cell_type": "code",
   "execution_count": null,
   "id": "0df3c937-d46d-4b09-8b27-f223dd9443ec",
   "metadata": {},
   "outputs": [],
   "source": [
    "data = data.drop(['dossier_nr'], axis = 1)"
   ]
  },
  {
   "cell_type": "code",
   "execution_count": null,
   "id": "bcec6dd9-0ec3-4de1-a011-00b2594610ff",
   "metadata": {},
   "outputs": [],
   "source": []
  },
  {
   "cell_type": "code",
   "execution_count": null,
   "id": "6967aa3e-fb24-4a14-ad46-d62cc96fb9f1",
   "metadata": {},
   "outputs": [],
   "source": []
  },
  {
   "cell_type": "code",
   "execution_count": null,
   "id": "56c60a88-4eba-4460-96e1-5ee85963c256",
   "metadata": {},
   "outputs": [],
   "source": [
    "dataset = data"
   ]
  },
  {
   "cell_type": "code",
   "execution_count": null,
   "id": "2caf7edf-2bc7-4ff3-8536-9c6fcb5f7b75",
   "metadata": {},
   "outputs": [],
   "source": [
    "# dataset = pd.concat([data, labels],  axis=1, join=\"inner\")\n",
    "# dataset"
   ]
  },
  {
   "cell_type": "code",
   "execution_count": null,
   "id": "482d33bd-89a9-4cbc-9ec7-e68e75cef05d",
   "metadata": {},
   "outputs": [],
   "source": [
    "# X = dataset.copy().iloc[:, :-2]\n",
    "# y = dataset.copy().iloc[:, -2:]\n",
    "\n",
    "X = dataset.copy().drop(['label','duration'], axis = 1)\n",
    "y = dataset.copy().loc[:, ['label', 'duration']]\n",
    "\n",
    "y['label'] = y['label'].apply(lambda x: True if x else False)\n",
    "y = np.array(y.to_records(index=False))"
   ]
  },
  {
   "cell_type": "code",
   "execution_count": null,
   "id": "9e1ff039-9934-43dd-a8d4-b6b66028eea8",
   "metadata": {},
   "outputs": [],
   "source": []
  },
  {
   "cell_type": "code",
   "execution_count": null,
   "id": "cb4c89f4-9efd-45f3-a5f2-34c181dd80da",
   "metadata": {},
   "outputs": [],
   "source": [
    "X_train, X_test, y_train, y_test = train_test_split(X, y, test_size=0.30, random_state=42, stratify = y['label'])"
   ]
  },
  {
   "cell_type": "code",
   "execution_count": null,
   "id": "8d0eb97c-272d-4899-ae49-46dd99541b9e",
   "metadata": {},
   "outputs": [],
   "source": []
  },
  {
   "cell_type": "code",
   "execution_count": null,
   "id": "06d7a2e3-38d0-4320-a033-6057a74e73f7",
   "metadata": {},
   "outputs": [],
   "source": []
  },
  {
   "cell_type": "code",
   "execution_count": null,
   "id": "86a9151e-4c84-4400-a953-093d53e173e6",
   "metadata": {},
   "outputs": [],
   "source": [
    "data"
   ]
  },
  {
   "cell_type": "code",
   "execution_count": null,
   "id": "637af5bc-a649-440d-8700-37e4eeb64874",
   "metadata": {},
   "outputs": [],
   "source": [
    "y_test"
   ]
  },
  {
   "cell_type": "code",
   "execution_count": null,
   "id": "1767d352-570b-486b-8e40-76f14e095d8d",
   "metadata": {},
   "outputs": [],
   "source": [
    "X_train"
   ]
  },
  {
   "cell_type": "code",
   "execution_count": null,
   "id": "09a13a72-e578-4bee-8f22-ddeb19d82a19",
   "metadata": {},
   "outputs": [],
   "source": [
    "y_train"
   ]
  },
  {
   "cell_type": "code",
   "execution_count": null,
   "id": "39abf104-ac63-42d2-8c8c-97b03ffe6827",
   "metadata": {},
   "outputs": [],
   "source": [
    "X.columns"
   ]
  },
  {
   "cell_type": "code",
   "execution_count": null,
   "id": "cfa35307-abdb-4912-97b6-04e0e653b4d4",
   "metadata": {},
   "outputs": [],
   "source": [
    "X = X.drop(['debiteur_relatie_nr', 'days_since_last_payment', 'days_since_last_contact'], axis=1)"
   ]
  },
  {
   "cell_type": "code",
   "execution_count": null,
   "id": "9289aec5-035c-480e-a2f8-da117a7f1a66",
   "metadata": {},
   "outputs": [],
   "source": [
    "from sksurv.linear_model import CoxnetSurvivalAnalysis"
   ]
  },
  {
   "cell_type": "code",
   "execution_count": null,
   "id": "711dcdcb-7c7c-4d03-af55-fb19470dd1f4",
   "metadata": {},
   "outputs": [],
   "source": [
    "cox_elastic_net = CoxnetSurvivalAnalysis(l1_ratio=0.99, fit_baseline_model=True)\n",
    "cox_elastic_net.fit(X, y)"
   ]
  },
  {
   "cell_type": "code",
   "execution_count": null,
   "id": "42ede550-c1b2-42a1-ad15-637fd4c3a775",
   "metadata": {},
   "outputs": [],
   "source": [
    "def plot_coefficients(coefs, n_highlight):\n",
    "    _, ax = plt.subplots(figsize=(9, 6))\n",
    "    n_features = coefs.shape[0]\n",
    "    alphas = coefs.columns\n",
    "    for row in coefs.itertuples():\n",
    "        ax.semilogx(alphas, row[1:], \".-\", label=row.Index)\n",
    "\n",
    "    alpha_min = alphas.min()\n",
    "    top_coefs = coefs.loc[:, alpha_min].map(abs).sort_values().tail(n_highlight)\n",
    "    for name in top_coefs.index:\n",
    "        coef = coefs.loc[name, alpha_min]\n",
    "        plt.text(\n",
    "            alpha_min, coef, name + \"   \",\n",
    "            horizontalalignment=\"right\",\n",
    "            verticalalignment=\"center\"\n",
    "        )\n",
    "\n",
    "    ax.yaxis.set_label_position(\"right\")\n",
    "    ax.yaxis.tick_right()\n",
    "    ax.grid(True)\n",
    "    ax.set_xlabel(\"alpha\")\n",
    "    ax.set_ylabel(\"coefficient\")"
   ]
  },
  {
   "cell_type": "code",
   "execution_count": null,
   "id": "93af13ec-00bf-4e22-a259-301f93eb6cac",
   "metadata": {},
   "outputs": [],
   "source": [
    "coefficients_elastic_net = pd.DataFrame(\n",
    "    cox_elastic_net.coef_,\n",
    "    index=X.columns,\n",
    "    columns=np.round(cox_elastic_net.alphas_, 5)\n",
    ")\n",
    "\n",
    "plot_coefficients(coefficients_elastic_net, n_highlight=5)"
   ]
  },
  {
   "cell_type": "code",
   "execution_count": null,
   "id": "a493d211-d867-43ae-a33c-7cca6a4030b3",
   "metadata": {},
   "outputs": [],
   "source": [
    "import warnings\n",
    "from sklearn.exceptions import ConvergenceWarning\n",
    "from sklearn.pipeline import make_pipeline\n",
    "from sklearn.preprocessing import StandardScaler\n",
    "\n",
    "coxnet_pipe = make_pipeline(\n",
    "    StandardScaler(),\n",
    "    CoxnetSurvivalAnalysis(l1_ratio=0.9, alpha_min_ratio=0.01, max_iter=100)\n",
    ")\n",
    "warnings.simplefilter(\"ignore\", ConvergenceWarning)\n",
    "coxnet_pipe.fit(X, y)"
   ]
  },
  {
   "cell_type": "code",
   "execution_count": null,
   "id": "df05c009-2a79-4a36-a5ff-39554b3f0e51",
   "metadata": {},
   "outputs": [],
   "source": [
    "estimated_alphas = coxnet_pipe.named_steps[\"coxnetsurvivalanalysis\"].alphas_\n",
    "cv = KFold(n_splits=5, shuffle=True, random_state=0)\n",
    "gcv = GridSearchCV(\n",
    "    make_pipeline(StandardScaler(), CoxnetSurvivalAnalysis(l1_ratio=0.9)),\n",
    "    param_grid={\"coxnetsurvivalanalysis__alphas\": [[v] for v in estimated_alphas]},\n",
    "    cv=cv,\n",
    "    error_score=0.5,\n",
    "    n_jobs=-1).fit(X, y)\n",
    "\n",
    "cv_results = pd.DataFrame(gcv.cv_results_)"
   ]
  },
  {
   "cell_type": "code",
   "execution_count": null,
   "id": "1eadd104-cb9a-4cb4-8948-d9c515684343",
   "metadata": {},
   "outputs": [],
   "source": [
    "X"
   ]
  },
  {
   "cell_type": "code",
   "execution_count": null,
   "id": "3c113b3e-b7e1-4c87-b471-24078ac14d52",
   "metadata": {},
   "outputs": [],
   "source": [
    "alphas = cv_results.param_coxnetsurvivalanalysis__alphas.map(lambda x: x[0])\n",
    "mean = cv_results.mean_test_score\n",
    "std = cv_results.std_test_score\n",
    "\n",
    "fig, ax = plt.subplots(figsize=(9, 6))\n",
    "ax.plot(alphas, mean)\n",
    "ax.fill_between(alphas, mean - std, mean + std, alpha=.15)\n",
    "ax.set_xscale(\"log\")\n",
    "ax.set_ylabel(\"concordance index\")\n",
    "ax.set_xlabel(\"alpha\")\n",
    "ax.axvline(gcv.best_params_[\"coxnetsurvivalanalysis__alphas\"][0], c=\"C1\")\n",
    "ax.axhline(0.5, color=\"grey\", linestyle=\"--\")\n",
    "ax.grid(True)"
   ]
  },
  {
   "cell_type": "code",
   "execution_count": null,
   "id": "c2b0d8dc-d82c-43c7-8f45-c3bf1e9721eb",
   "metadata": {},
   "outputs": [],
   "source": [
    "import seaborn as sns\n",
    "sns.set_theme(style=\"darkgrid\")"
   ]
  },
  {
   "cell_type": "code",
   "execution_count": null,
   "id": "8b502ba5-de43-46e8-ad73-dc40a88ac02d",
   "metadata": {},
   "outputs": [],
   "source": [
    "best_model = gcv.best_estimator_.named_steps[\"coxnetsurvivalanalysis\"]\n",
    "best_coefs = pd.DataFrame(\n",
    "    best_model.coef_,\n",
    "    index=X.columns,\n",
    "    columns=[\"coefficient\"]\n",
    ")\n",
    "\n",
    "non_zero = np.sum(best_coefs.iloc[:, 0] != 0)\n",
    "print(\"Number of non-zero coefficients: {}\".format(non_zero))\n",
    "\n",
    "non_zero_coefs = best_coefs.query(\"coefficient != 0\")\n",
    "coef_order = non_zero_coefs.abs().sort_values(\"coefficient\").index\n",
    "\n",
    "_, ax = plt.subplots(figsize=(6, 12))\n",
    "non_zero_coefs.loc[coef_order].abs().plot.barh(ax=ax, legend=False)\n",
    "ax.set_xlabel(\"Relative feature importance\")\n",
    "# ax.set_title('Top 25 features with highest relative feature  importance as calculated by the Elastic Net Cox Regression model')\n",
    "# plt.tight_layout()\n",
    "ax.grid(True)\n",
    "plt.savefig('./figures/relative_feature_importance')"
   ]
  },
  {
   "cell_type": "code",
   "execution_count": null,
   "id": "a9bc0849-a9e1-4112-96c3-3957cd7626e1",
   "metadata": {},
   "outputs": [],
   "source": [
    "with pd.option_context(\"max_colwidth\", 1000):\n",
    "    print(non_zero_coefs.loc[coef_order].abs().iloc[::-1].to_latex())"
   ]
  },
  {
   "cell_type": "code",
   "execution_count": null,
   "id": "180b7ecd-1456-45af-9774-7d66a5a2e52e",
   "metadata": {},
   "outputs": [],
   "source": [
    "non_zero_coefs"
   ]
  },
  {
   "cell_type": "code",
   "execution_count": null,
   "id": "7d09dc91-8109-41b6-9b58-36383a9bc07c",
   "metadata": {},
   "outputs": [],
   "source": [
    "non_zero_coefs.to_csv('./data/non_zero_coefs.csv')"
   ]
  },
  {
   "cell_type": "code",
   "execution_count": null,
   "id": "5198839f-5cb3-40c8-98f1-a67b5a711d82",
   "metadata": {},
   "outputs": [],
   "source": [
    "non_zero"
   ]
  },
  {
   "cell_type": "code",
   "execution_count": null,
   "id": "4d94cafe-7558-4aab-970f-0fd264f60c28",
   "metadata": {},
   "outputs": [],
   "source": [
    "non_zero_coefs.abs().sort_values(\"coefficient\")"
   ]
  },
  {
   "cell_type": "code",
   "execution_count": null,
   "id": "a665a3cd-a152-4ebb-9db7-f3861d48fafd",
   "metadata": {},
   "outputs": [],
   "source": [
    "X"
   ]
  },
  {
   "cell_type": "code",
   "execution_count": null,
   "id": "0d90782d-ec68-4619-b556-cc45475b067a",
   "metadata": {},
   "outputs": [],
   "source": [
    "len(best_model.coef_)"
   ]
  },
  {
   "cell_type": "code",
   "execution_count": null,
   "id": "f57cdea4-f9e9-469c-8674-567fead5e99f",
   "metadata": {},
   "outputs": [],
   "source": [
    "X.std()"
   ]
  },
  {
   "cell_type": "code",
   "execution_count": null,
   "id": "030e0594-c489-4775-92bc-09bdad9cd1f2",
   "metadata": {},
   "outputs": [],
   "source": [
    "X.toarray()"
   ]
  },
  {
   "cell_type": "code",
   "execution_count": null,
   "id": "da2e553a-5167-45fb-9b9e-631b0bbda7ec",
   "metadata": {},
   "outputs": [],
   "source": [
    "len(X)"
   ]
  },
  {
   "cell_type": "code",
   "execution_count": null,
   "id": "78dd987b-735e-4150-9fa1-dfe222571b35",
   "metadata": {},
   "outputs": [],
   "source": [
    "best_model.coef_.flatten()"
   ]
  },
  {
   "cell_type": "code",
   "execution_count": null,
   "id": "56233449-fc34-47d2-8b2d-c56bf986de0d",
   "metadata": {},
   "outputs": [],
   "source": [
    "scaler = StandardScaler()\n",
    "p = scaler.fit_transform(X)\n",
    "X_imputed_df = pd.DataFrame(p, columns = X.columns)"
   ]
  },
  {
   "cell_type": "code",
   "execution_count": null,
   "id": "82aff6be-325f-46b7-b108-21cababd0bde",
   "metadata": {},
   "outputs": [],
   "source": [
    "pd.DataFrame(X_imputed_df.std()*best_model.coef_.flatten()).sort_values(by=0)"
   ]
  },
  {
   "cell_type": "code",
   "execution_count": null,
   "id": "28d4308f-71d7-43df-8238-8c9d08ffd6b0",
   "metadata": {},
   "outputs": [],
   "source": [
    "print(X.std()*best_model.coef_.flatten())"
   ]
  }
 ],
 "metadata": {
  "kernelspec": {
   "display_name": "Python 3",
   "language": "python",
   "name": "python3"
  },
  "language_info": {
   "codemirror_mode": {
    "name": "ipython",
    "version": 3
   },
   "file_extension": ".py",
   "mimetype": "text/x-python",
   "name": "python",
   "nbconvert_exporter": "python",
   "pygments_lexer": "ipython3",
   "version": "3.8.10"
  }
 },
 "nbformat": 4,
 "nbformat_minor": 5
}
