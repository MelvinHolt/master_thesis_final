{
 "cells": [
  {
   "cell_type": "code",
   "execution_count": null,
   "id": "f0e048d3-082e-4f0b-96b6-b7e722c06520",
   "metadata": {},
   "outputs": [],
   "source": [
    "import numpy as np\n",
    "import pandas as pd"
   ]
  },
  {
   "cell_type": "code",
   "execution_count": null,
   "id": "73869d15-a495-4248-836a-e1af0897eb23",
   "metadata": {},
   "outputs": [],
   "source": [
    "df = pd.read_excel('./data/debtors info.xlsx').drop_duplicates(subset=['dossier_nr']).set_index('dossier_nr')\n",
    "df"
   ]
  },
  {
   "cell_type": "code",
   "execution_count": null,
   "id": "1cfbf5fd-44fd-4e35-b1ce-e77304a284e0",
   "metadata": {},
   "outputs": [],
   "source": [
    "for col in ['datum_betekening', 'datum_afsluiten', 'datum_toevoegen', 'datum_laatste_betaling']:\n",
    "    df[col] = pd.to_datetime(df[col])"
   ]
  },
  {
   "cell_type": "markdown",
   "id": "bc37c716-05ec-4118-a23b-90bfc0db1032",
   "metadata": {},
   "source": [
    "# Work through columnns"
   ]
  },
  {
   "cell_type": "code",
   "execution_count": null,
   "id": "59a83d79-40a1-4879-92d7-672fe237cafa",
   "metadata": {},
   "outputs": [],
   "source": [
    "df.columns"
   ]
  },
  {
   "cell_type": "markdown",
   "id": "5bc9b084-c6f8-4125-8d70-eb82f56ac072",
   "metadata": {},
   "source": [
    "### Case duration (for landmarking)"
   ]
  },
  {
   "cell_type": "code",
   "execution_count": null,
   "id": "796660a9-b3c6-46d6-b884-a7ff8ee557fd",
   "metadata": {},
   "outputs": [],
   "source": []
  },
  {
   "cell_type": "markdown",
   "id": "4da418db-5307-4485-8618-30a786e5fe48",
   "metadata": {},
   "source": [
    "### Case type"
   ]
  },
  {
   "cell_type": "code",
   "execution_count": null,
   "id": "e3ef6887-df97-4f35-b1f4-2c1258649505",
   "metadata": {},
   "outputs": [],
   "source": [
    "case_types = pd.get_dummies(df.soort_zaak_code, prefix='case_type')\n",
    "case_types"
   ]
  },
  {
   "cell_type": "markdown",
   "id": "517849c4-0533-49a7-ba6e-4302277a5c2c",
   "metadata": {},
   "source": [
    "### Has previously paid"
   ]
  },
  {
   "cell_type": "code",
   "execution_count": null,
   "id": "2a59e697-3ff3-4fe2-994d-39b8b020beff",
   "metadata": {},
   "outputs": [],
   "source": [
    "has_previously_paid = df['datum_laatste_betaling'].apply(lambda x: 0 if pd.isnull(x) else 1)\n",
    "has_previously_paid.name = 'has_previously_paid'\n",
    "has_previously_paid = pd.DataFrame(has_previously_paid)\n",
    "has_previously_paid"
   ]
  },
  {
   "cell_type": "markdown",
   "id": "dbb33a37-56c7-43bb-9422-71314d51782a",
   "metadata": {},
   "source": [
    "### Debt amount"
   ]
  },
  {
   "cell_type": "code",
   "execution_count": null,
   "id": "c5333ffd-5a78-4868-a21c-62c01ad65959",
   "metadata": {},
   "outputs": [],
   "source": [
    "debt_amount = pd.DataFrame(df['bedrag_hoofdsom'])\n",
    "debt_amount.columns = ['debt_amount']\n",
    "debt_amount['debt_amount'] = debt_amount.debt_amount.apply(lambda x: x if x < 2000 else 2000)\n",
    "debt_amount"
   ]
  },
  {
   "cell_type": "markdown",
   "id": "503da050-8cf8-430d-9bec-66d65ef9be92",
   "metadata": {},
   "source": [
    "# Load debtor_info"
   ]
  },
  {
   "cell_type": "code",
   "execution_count": null,
   "id": "9abc9c4f-4150-4592-84f2-6f15edf241b8",
   "metadata": {},
   "outputs": [],
   "source": [
    "debtor_info = pd.read_excel('./data/debtors info.xlsx', sheet_name = 'debiteuren').drop_duplicates(subset=['dossier_nr']).set_index('dossier_nr')\n",
    "debtor_info"
   ]
  },
  {
   "cell_type": "code",
   "execution_count": null,
   "id": "3aea49ad-0b29-4065-a767-52db77b1ca99",
   "metadata": {},
   "outputs": [],
   "source": [
    "debtor_info = debtor_info[debtor_info.debiteur_RP_JN == 0]"
   ]
  },
  {
   "cell_type": "code",
   "execution_count": null,
   "id": "af0ec960-9341-49c6-9baa-88697a0e6653",
   "metadata": {},
   "outputs": [],
   "source": [
    "debtor_info.describe()"
   ]
  },
  {
   "cell_type": "markdown",
   "id": "4f5fd143-0c70-4180-8f21-3bc3114d431a",
   "metadata": {},
   "source": [
    "### Debtor age"
   ]
  },
  {
   "cell_type": "code",
   "execution_count": null,
   "id": "97c520b2-65d3-41ab-b72a-fccbd0ba4768",
   "metadata": {},
   "outputs": [],
   "source": [
    "debtor_age = pd.DataFrame(debtor_info['debiteur_leeftijd'])\n",
    "debtor_age.columns = ['debtor_age']\n",
    "debtor_age['debtor_age'] = debtor_age['debtor_age'].apply( lambda x: int(x) if x != 1000 else (debtor_age.debtor_age.mean())).astype(int)\n",
    "debtor_age"
   ]
  },
  {
   "cell_type": "markdown",
   "id": "3b03e5df-1208-47c2-acd4-5772fd4521d9",
   "metadata": {},
   "source": [
    "###  Debtor Sex"
   ]
  },
  {
   "cell_type": "code",
   "execution_count": null,
   "id": "9bd61cdd-a5ca-4dc5-a0f6-eb60a8a77daf",
   "metadata": {},
   "outputs": [],
   "source": [
    "debtor_sex = pd.DataFrame(debtor_info['debiteur_geslacht'].apply(lambda x: x if x != 0 else 1))\n",
    "debtor_sex.columns = ['debtor_sex']\n",
    "debtor_sex"
   ]
  },
  {
   "cell_type": "markdown",
   "id": "14dc1f86-0d5f-4a85-9316-9b69b5f28a65",
   "metadata": {},
   "source": [
    "### Debtor marital status"
   ]
  },
  {
   "cell_type": "code",
   "execution_count": null,
   "id": "45ff6924-8750-4ec6-9fbf-00ec8d0243a4",
   "metadata": {},
   "outputs": [],
   "source": [
    "debtor_marital_status = pd.DataFrame(debtor_info['debiteur_burgerlijke_staat'].apply(lambda x: x if x < 4 else 'other'))\n",
    "debtor_marital_status = pd.get_dummies(debtor_marital_status.debiteur_burgerlijke_staat, prefix='marital_status')\n",
    "debtor_marital_status"
   ]
  },
  {
   "cell_type": "markdown",
   "id": "4f8cb756-a4e5-448e-8b44-da3c48d84ab1",
   "metadata": {},
   "source": [
    "## Boolean columns"
   ]
  },
  {
   "cell_type": "code",
   "execution_count": null,
   "id": "0a2d1d12-abf8-4137-a3e4-a166731b7887",
   "metadata": {},
   "outputs": [],
   "source": [
    "boolean_column_names = ['debiteur_adres_io', 'debiteur_adres_vow', 'debiteur_telefoonnummer_JN', 'debiteur_email_JN', \n",
    "                   'debiteur_bankrekening_JN', 'debiteur_NP_bedrijf_JN', 'debiteur_BSN_bekend_JN', 'debiteur_werkgever_bekend_JN',\n",
    "                  'debiteur_overleden_JN', 'debiteur_agressief_JN', 'debiteur_detentie_JN', 'debiteur_bewind_JN', 'debiteur_insolvent_JN', 'debiteur_curatele_JN',\n",
    "                  'debiteur_SHV_gemeente_JN']\n",
    "boolean_columns = debtor_info[boolean_column_names]\n",
    "boolean_columns"
   ]
  },
  {
   "cell_type": "markdown",
   "id": "49ee103f-1472-4574-93a1-9b814105127d",
   "metadata": {},
   "source": [
    "## Postal code"
   ]
  },
  {
   "cell_type": "code",
   "execution_count": null,
   "id": "326b0108-b164-424d-bcd9-139e6549361a",
   "metadata": {},
   "outputs": [],
   "source": [
    "debtor_info.debiteur_postcode_4_cijfers.value_counts(dropna=False)"
   ]
  },
  {
   "cell_type": "code",
   "execution_count": null,
   "id": "852680a0-f8c6-4501-8090-447c09db92ac",
   "metadata": {},
   "outputs": [],
   "source": [
    "debtor_info.debiteur_postcode_4_cijfers = debtor_info.debiteur_postcode_4_cijfers.fillna(debtor_info.debiteur_postcode_4_cijfers.mode(0)[0])"
   ]
  },
  {
   "cell_type": "code",
   "execution_count": null,
   "id": "cb226b9b-c25f-43b7-b9a3-eedc8bc899fb",
   "metadata": {},
   "outputs": [],
   "source": [
    "postal_code_income = pd.read_excel('./data/Besteedbaar-inkomen-postcode-2004-2014.xlsx',  index_col = 0)\n",
    "postal_code_income['Disposable Income'] = postal_code_income['Disposable Income'].replace({'.': 24.7})\n",
    "postal_code_income"
   ]
  },
  {
   "cell_type": "code",
   "execution_count": null,
   "id": "4469ae8f-03b5-443e-96de-96bb8d030d8f",
   "metadata": {},
   "outputs": [],
   "source": [
    "def get_disposable_income(postcal_code):\n",
    "    try: \n",
    "        return postal_code_income.loc[postcal_code, 'Disposable Income']\n",
    "    except KeyError:\n",
    "        return 24.7"
   ]
  },
  {
   "cell_type": "code",
   "execution_count": null,
   "id": "032ef2da-ec44-4651-a260-4b324865f85a",
   "metadata": {},
   "outputs": [],
   "source": [
    "disposable_income = pd.DataFrame(debtor_info.debiteur_postcode_4_cijfers.apply(lambda x: get_disposable_income(x)))\n",
    "disposable_income.columns = ['disposable_income']"
   ]
  },
  {
   "cell_type": "code",
   "execution_count": null,
   "id": "ee9e25d9-98d1-45f4-b2ae-bb8aa6e3a262",
   "metadata": {},
   "outputs": [],
   "source": [
    "postal_code_info = pd.read_excel('./data/cbs_pc4_2020_v1.xlsx', skiprows=1, index_col=0)\n",
    "postal_code_info = postal_code_info.apply(lambda x: np.where(x < 0, np.nan,x))\n",
    "postal_code_info"
   ]
  },
  {
   "cell_type": "code",
   "execution_count": null,
   "id": "c7a8fb9f-0346-4897-a50d-432e0c6af1c8",
   "metadata": {},
   "outputs": [],
   "source": [
    "def get_fraction_under_25(postal_code):\n",
    "    return (postal_code_info.loc[postal_code, 'INW_014'] + postal_code_info.loc[postal_code, 'INW_1524']) / postal_code_info.loc[postal_code, 'INWONER']\n",
    "\n",
    "def get_fraction_under_45(postal_code):\n",
    "    return (postal_code_info.loc[postal_code, 'INW_014'] + postal_code_info.loc[postal_code, 'INW_1524']  + postal_code_info.loc[postal_code, 'INW_2544']) / postal_code_info.loc[postal_code, 'INWONER']"
   ]
  },
  {
   "cell_type": "code",
   "execution_count": null,
   "id": "60d06e1c-c918-486b-8241-94a3205fa203",
   "metadata": {},
   "outputs": [],
   "source": [
    "fraction_under_25 = pd.DataFrame(debtor_info.debiteur_postcode_4_cijfers.apply(lambda x: get_fraction_under_25(x)))\n",
    "fraction_under_25.columns = ['fraction_under_25']\n",
    "fraction_under_45 = pd.DataFrame(debtor_info.debiteur_postcode_4_cijfers.apply(lambda x: get_fraction_under_45(x)))"
   ]
  },
  {
   "cell_type": "code",
   "execution_count": null,
   "id": "31334d28-62ac-4f04-a22d-0aac365b6ab2",
   "metadata": {},
   "outputs": [],
   "source": [
    "def get_fraction_rented_adresses(postal_code):\n",
    "    return postal_code_info.loc[postal_code, 'P_HUURWON'] / 100\n",
    "fraction_rented_houses = pd.DataFrame(debtor_info.debiteur_postcode_4_cijfers.apply(lambda x: get_fraction_rented_adresses(x)))\n",
    "fraction_rented_houses.columns = ['fraction_rented_houses']"
   ]
  },
  {
   "cell_type": "code",
   "execution_count": null,
   "id": "33a23f37-bd27-42c3-8586-67c773d927b6",
   "metadata": {},
   "outputs": [],
   "source": [
    "def get_average_house_value(postal_code):\n",
    "    return postal_code_info.loc[postal_code, 'WOZWONING']\n",
    "average_house_value = pd.DataFrame(debtor_info.debiteur_postcode_4_cijfers.apply(lambda x: get_average_house_value(x)))\n",
    "average_house_value.columns = ['average_house_value']"
   ]
  },
  {
   "cell_type": "code",
   "execution_count": null,
   "id": "bec18bc9-2117-4cad-ab4b-f3f2271fe716",
   "metadata": {},
   "outputs": [],
   "source": [
    "def get_average_adresses_per_square_kilometer(postal_code):\n",
    "    return postal_code_info.loc[postal_code, 'OAD']\n",
    "average_adresses_per_square_kilometer = pd.DataFrame(debtor_info.debiteur_postcode_4_cijfers.apply(lambda x: get_average_adresses_per_square_kilometer(x)))\n",
    "average_adresses_per_square_kilometer.columns = ['average_adresses_per_square_kilometer']"
   ]
  },
  {
   "cell_type": "code",
   "execution_count": null,
   "id": "d4575234-369d-4991-be87-f4efe4251a2a",
   "metadata": {},
   "outputs": [],
   "source": [
    "def get_percentage_unemployed(postal_code):\n",
    "    return postal_code_info.loc[postal_code, 'UITKMINAOW'] /  postal_code_info.loc[postal_code, 'INWONER']\n",
    "percentage_unemployed = pd.DataFrame(debtor_info.debiteur_postcode_4_cijfers.apply(lambda x: get_percentage_unemployed(x)))\n",
    "percentage_unemployed.columns = ['percentage_unemployed']"
   ]
  },
  {
   "cell_type": "markdown",
   "id": "8f7c80fa-04d1-4377-923f-a3030391f538",
   "metadata": {},
   "source": [
    "# Merging all variables together"
   ]
  },
  {
   "cell_type": "code",
   "execution_count": null,
   "id": "4607a997-6385-464a-95a7-64d08153b1eb",
   "metadata": {},
   "outputs": [],
   "source": [
    "# fraction_rented_houses, average_house_value, average_adresses_per_square_kilometer, percentage_unemployed"
   ]
  },
  {
   "cell_type": "code",
   "execution_count": null,
   "id": "af4401f2-8c5b-4495-8d31-f6fa833b65c5",
   "metadata": {},
   "outputs": [],
   "source": [
    "variables = [df['debiteur_relatie_nr'], case_types, debt_amount, debtor_age, debtor_sex, debtor_marital_status, boolean_columns, disposable_income, fraction_under_25, ]"
   ]
  },
  {
   "cell_type": "code",
   "execution_count": null,
   "id": "e5aa1674-4ba4-444a-8f1f-7128bc42e326",
   "metadata": {},
   "outputs": [],
   "source": [
    "result = pd.concat(variables, axis=1, join=\"inner\")"
   ]
  },
  {
   "cell_type": "code",
   "execution_count": null,
   "id": "bd725783-620e-488a-82c0-e521b4f5cde5",
   "metadata": {},
   "outputs": [],
   "source": [
    "result"
   ]
  },
  {
   "cell_type": "code",
   "execution_count": null,
   "id": "67164d4a-8e34-4ebd-881c-8c6a5635efca",
   "metadata": {},
   "outputs": [],
   "source": [
    "result.iloc[:, 1:]"
   ]
  },
  {
   "cell_type": "code",
   "execution_count": null,
   "id": "b76cdda6-02f1-4267-aa96-366f3faef346",
   "metadata": {},
   "outputs": [],
   "source": [
    "result.iloc[:1000, 1:].info()"
   ]
  },
  {
   "cell_type": "code",
   "execution_count": null,
   "id": "12f61783-9c92-44be-8071-3ed4a76a141a",
   "metadata": {},
   "outputs": [],
   "source": [
    "from pandas_profiling import ProfileReport\n",
    "profile = ProfileReport(result.reset_index().iloc[:500, 2:], title=\"Pandas Profiling Report\", explorative=True)\n",
    "profile.to_file(\"your_report.html\")"
   ]
  },
  {
   "cell_type": "code",
   "execution_count": null,
   "id": "42afead4-c82b-4ed6-b176-48d7bf4b7103",
   "metadata": {},
   "outputs": [],
   "source": [
    "result.reset_index().iloc[:500, 2:]"
   ]
  },
  {
   "cell_type": "code",
   "execution_count": null,
   "id": "4d50bda8-9906-494e-9aa3-6cdbc62928f2",
   "metadata": {},
   "outputs": [],
   "source": [
    "import seaborn as sns\n",
    "import matplotlib.pyplot as plt"
   ]
  },
  {
   "cell_type": "code",
   "execution_count": null,
   "id": "56280614-1382-4c61-8707-8584db78b438",
   "metadata": {},
   "outputs": [],
   "source": [
    "sns.heatmap(result.reset_index().iloc[:, :].corr());"
   ]
  },
  {
   "cell_type": "code",
   "execution_count": null,
   "id": "98fb3e61-1703-4389-bbbb-e3ea4149d118",
   "metadata": {},
   "outputs": [],
   "source": [
    "result.to_csv('./data/dataset.csv')"
   ]
  },
  {
   "cell_type": "code",
   "execution_count": null,
   "id": "bb6befdf-d211-4c00-9dfe-bf02eac2bb9a",
   "metadata": {},
   "outputs": [],
   "source": []
  }
 ],
 "metadata": {
  "kernelspec": {
   "display_name": "Python 3",
   "language": "python",
   "name": "python3"
  },
  "language_info": {
   "codemirror_mode": {
    "name": "ipython",
    "version": 3
   },
   "file_extension": ".py",
   "mimetype": "text/x-python",
   "name": "python",
   "nbconvert_exporter": "python",
   "pygments_lexer": "ipython3",
   "version": "3.8.10"
  }
 },
 "nbformat": 4,
 "nbformat_minor": 5
}
