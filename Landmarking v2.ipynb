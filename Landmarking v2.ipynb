{
 "cells": [
  {
   "cell_type": "code",
   "execution_count": null,
   "id": "noticed-rachel",
   "metadata": {},
   "outputs": [],
   "source": [
    "import pandas as pd\n",
    "import numpy as np"
   ]
  },
  {
   "cell_type": "code",
   "execution_count": null,
   "id": "encouraging-webster",
   "metadata": {},
   "outputs": [],
   "source": [
    "complete_event_log = pd.read_csv('./data/eventlog.csv').dropna(subset=['actie_omschrijving'])\n",
    "complete_event_log"
   ]
  },
  {
   "cell_type": "code",
   "execution_count": null,
   "id": "behavioral-tunisia",
   "metadata": {},
   "outputs": [],
   "source": []
  },
  {
   "cell_type": "code",
   "execution_count": null,
   "id": "maritime-meaning",
   "metadata": {},
   "outputs": [],
   "source": [
    "event_log = pd.read_csv('./data/BPM_event_log_translated.csv', index_col=0)"
   ]
  },
  {
   "cell_type": "code",
   "execution_count": null,
   "id": "determined-madness",
   "metadata": {},
   "outputs": [],
   "source": [
    "labels = pd.read_csv('./data/labels.csv', index_col = 0)\n",
    "labels"
   ]
  },
  {
   "cell_type": "code",
   "execution_count": null,
   "id": "affiliated-capture",
   "metadata": {},
   "outputs": [],
   "source": []
  },
  {
   "cell_type": "code",
   "execution_count": null,
   "id": "least-hardwood",
   "metadata": {},
   "outputs": [],
   "source": [
    "event_log[event_log.dossier_nr == 11848531]"
   ]
  },
  {
   "cell_type": "code",
   "execution_count": null,
   "id": "funny-mustang",
   "metadata": {},
   "outputs": [],
   "source": [
    "event_log = event_log.merge(labels, on='dossier_nr', how='left')\n",
    "event_log = event_log[event_log['duration'] >= 0]\n",
    "event_log"
   ]
  },
  {
   "cell_type": "code",
   "execution_count": null,
   "id": "unexpected-matrix",
   "metadata": {},
   "outputs": [],
   "source": [
    "for col in ['datum_van', 'datum_tot', 'datum_actie']:\n",
    "    event_log[col] = pd.to_datetime(event_log[col])\n",
    "    complete_event_log[col] = pd.to_datetime(complete_event_log[col])\n",
    "    "
   ]
  },
  {
   "cell_type": "code",
   "execution_count": null,
   "id": "infrared-improvement",
   "metadata": {},
   "outputs": [],
   "source": [
    "event_log['days_in_execution_phase'] = (event_log['datum_actie'] - event_log['datum_van']).dt.days\n",
    "event_log['days_in_execution_phase']"
   ]
  },
  {
   "cell_type": "code",
   "execution_count": null,
   "id": "handled-consumption",
   "metadata": {},
   "outputs": [],
   "source": [
    "pipeie = pd.get_dummies(event_log.action, prefix='action')\n",
    "pipeie"
   ]
  },
  {
   "cell_type": "code",
   "execution_count": null,
   "id": "premium-ability",
   "metadata": {},
   "outputs": [],
   "source": [
    "event_log.columns"
   ]
  },
  {
   "cell_type": "code",
   "execution_count": null,
   "id": "ready-simon",
   "metadata": {},
   "outputs": [],
   "source": [
    "merged = event_log[['dossier_nr', 'duration', 'days_in_execution_phase']].merge(pipeie, how='inner', left_index=True, right_index=True)\n",
    "merged"
   ]
  },
  {
   "cell_type": "code",
   "execution_count": null,
   "id": "unlikely-monaco",
   "metadata": {},
   "outputs": [],
   "source": []
  },
  {
   "cell_type": "code",
   "execution_count": null,
   "id": "rental-sustainability",
   "metadata": {},
   "outputs": [],
   "source": [
    "merged[merged.duration < 0]"
   ]
  },
  {
   "cell_type": "code",
   "execution_count": null,
   "id": "selective-piano",
   "metadata": {},
   "outputs": [],
   "source": [
    "bieboep = merged[merged.days_in_execution_phase < 30]"
   ]
  },
  {
   "cell_type": "code",
   "execution_count": null,
   "id": "knowing-learning",
   "metadata": {},
   "outputs": [],
   "source": [
    "bieboep.groupby('dossier_nr').sum()"
   ]
  },
  {
   "cell_type": "code",
   "execution_count": null,
   "id": "hungarian-poster",
   "metadata": {},
   "outputs": [],
   "source": [
    "merged"
   ]
  },
  {
   "cell_type": "code",
   "execution_count": null,
   "id": "agricultural-gregory",
   "metadata": {},
   "outputs": [],
   "source": [
    "event_log.groupby('dossier_nr').count().describe()"
   ]
  },
  {
   "cell_type": "code",
   "execution_count": null,
   "id": "aware-alexandria",
   "metadata": {},
   "outputs": [],
   "source": [
    "event_log.dossier_nr.nunique()"
   ]
  },
  {
   "cell_type": "code",
   "execution_count": null,
   "id": "hearing-credits",
   "metadata": {},
   "outputs": [],
   "source": [
    "event_log[event_log.days_in_execution_phase < 120].dossier_nr.nunique()"
   ]
  },
  {
   "cell_type": "markdown",
   "id": "square-playlist",
   "metadata": {},
   "source": [
    "## Landmarking"
   ]
  },
  {
   "cell_type": "code",
   "execution_count": null,
   "id": "perfect-scanning",
   "metadata": {},
   "outputs": [],
   "source": [
    "event_log[event_log.duration >= 0].dossier_nr.nunique()"
   ]
  },
  {
   "cell_type": "code",
   "execution_count": null,
   "id": "italian-trading",
   "metadata": {},
   "outputs": [],
   "source": [
    "dataset = pd.read_csv('./data/dataset.csv', index_col = 0)\n",
    "dataset"
   ]
  },
  {
   "cell_type": "code",
   "execution_count": null,
   "id": "broadband-roommate",
   "metadata": {},
   "outputs": [],
   "source": [
    "labels = pd.read_csv('./data/labels.csv', index_col = 0)\n",
    "labels = labels[labels.duration >= 0]\n",
    "labels"
   ]
  },
  {
   "cell_type": "code",
   "execution_count": null,
   "id": "fifteen-certification",
   "metadata": {},
   "outputs": [],
   "source": []
  },
  {
   "cell_type": "code",
   "execution_count": null,
   "id": "helpful-jesus",
   "metadata": {},
   "outputs": [],
   "source": [
    "complete_event_log"
   ]
  },
  {
   "cell_type": "code",
   "execution_count": null,
   "id": "embedded-satellite",
   "metadata": {},
   "outputs": [],
   "source": [
    "labels"
   ]
  },
  {
   "cell_type": "code",
   "execution_count": null,
   "id": "parliamentary-flight",
   "metadata": {},
   "outputs": [],
   "source": [
    "complete_event_log = complete_event_log.merge(dataset.reset_index()[['dossier_nr', 'debiteur_relatie_nr']], how='inner', left_on='dossier_nr', right_on='dossier_nr')"
   ]
  },
  {
   "cell_type": "code",
   "execution_count": null,
   "id": "premium-biography",
   "metadata": {},
   "outputs": [],
   "source": [
    "complete_dataset = pd.DataFrame()\n",
    "\n",
    "for i in range(0, labels.duration.max(), 90):\n",
    "# for i in [0, 30]:\n",
    "    dossiers = labels[labels.duration >= i]\n",
    "    altered_labels = labels.copy()\n",
    "    altered_labels['duration'] = altered_labels['duration'] - i\n",
    "    \n",
    "    filtered = merged[(merged.dossier_nr.isin(dossiers.index)) & (merged.days_in_execution_phase <= i)]\n",
    "    \n",
    "    grouped = filtered.groupby('dossier_nr').sum()\n",
    "    filtered_dataset = dataset[dataset.index.isin(dossiers.index)]\n",
    "    \n",
    "    \n",
    "    res = filtered_dataset.merge(grouped, on='dossier_nr', how='left').fillna(0).reset_index()\n",
    "    res['days_in_execution_phase'] = i\n",
    "    \n",
    "    res = res.drop(['duration', 'action_Payment'], axis = 1)\n",
    "    res = res.merge(altered_labels, on='dossier_nr', how='inner')\n",
    "\n",
    "\n",
    "    \n",
    "    \n",
    "    complete_dataset = complete_dataset.append(res)"
   ]
  },
  {
   "cell_type": "code",
   "execution_count": null,
   "id": "million-parallel",
   "metadata": {},
   "outputs": [],
   "source": [
    "complete_dataset = complete_dataset.reset_index()"
   ]
  },
  {
   "cell_type": "code",
   "execution_count": null,
   "id": "polish-thong",
   "metadata": {},
   "outputs": [],
   "source": [
    "complete_dataset['days_in_execution_phase'].value_counts()"
   ]
  },
  {
   "cell_type": "code",
   "execution_count": null,
   "id": "nearby-garage",
   "metadata": {},
   "outputs": [],
   "source": [
    "complete_dataset.columns"
   ]
  },
  {
   "cell_type": "code",
   "execution_count": null,
   "id": "significant-chapel",
   "metadata": {},
   "outputs": [],
   "source": [
    "complete_dataset"
   ]
  },
  {
   "cell_type": "code",
   "execution_count": null,
   "id": "prime-athletics",
   "metadata": {},
   "outputs": [],
   "source": [
    "from datetime import timedelta"
   ]
  },
  {
   "cell_type": "code",
   "execution_count": null,
   "id": "focal-perception",
   "metadata": {},
   "outputs": [],
   "source": [
    "complete_event_log"
   ]
  },
  {
   "cell_type": "code",
   "execution_count": null,
   "id": "blind-excellence",
   "metadata": {},
   "outputs": [],
   "source": [
    "complete_event_log.datum_actie = complete_event_log.datum_actie.dt.date"
   ]
  },
  {
   "cell_type": "code",
   "execution_count": null,
   "id": "imposed-alloy",
   "metadata": {},
   "outputs": [],
   "source": [
    "complete_dataset"
   ]
  },
  {
   "cell_type": "code",
   "execution_count": null,
   "id": "alike-chapter",
   "metadata": {},
   "outputs": [],
   "source": [
    "fc_columns = ['nr_cases_in_execution_phase' , 'nr_open_cases_in_execution_phase', 'nr_cases_with_payment', 'nr_cases_without_payment', 'debtor_payment_past_30_days', 'debtor_payment_past_180_days', 'debtor_payment_past_365_days', 'debtor_payment_in_dataset', 'debtor_contact_past_30_days', 'debtor_contact_past_180_days', 'debtor_contact_past_365_days', 'debtor_contact_in_dataset', 'debtor_official_acts', 'debtor_outgoing_emails', 'debtor_outgoing_letters', 'debtor_outbound_calls', 'debtor_incoming_emails', 'debtor_incoming_letters', 'debtor_incoming_calls']\n",
    "feature_creation_df = pd.DataFrame(columns = fc_columns)\n",
    "for i, dossier in complete_dataset.iterrows():\n",
    "#     print(dossier)\n",
    "    debtor_nr = dossier.debiteur_relatie_nr\n",
    "    complete_case_event_log = complete_event_log[complete_event_log.dossier_nr == dossier.dossier_nr]\n",
    "    current_date = complete_case_event_log.datum_van.min() + timedelta(dossier.days_in_execution_phase)\n",
    "#     print(current_date - timedelta(30))\n",
    "#     print(current_date)\n",
    "#     current_date += timedelta(10000)\n",
    "    \n",
    "    \n",
    "    debtor_cases = complete_event_log[(complete_event_log.debiteur_relatie_nr == debtor_nr) & (complete_event_log.datum_actie <= current_date)]\n",
    "    nr_cases = debtor_cases.dossier_nr.nunique()\n",
    "    open_debtor_cases = debtor_cases[debtor_cases['datum_tot'] > current_date]\n",
    "    nr_open_cases = open_debtor_cases.dossier_nr.nunique()\n",
    "    \n",
    "    payments = debtor_cases[(debtor_cases['bedrag_betaling'] > 0) & (debtor_cases['cat_actie_code'] != 999.0)]\n",
    "    \n",
    "    nr_cases_with_payment = payments.dossier_nr.nunique()\n",
    "    nr_cases_without_payment = nr_cases - nr_cases_with_payment\n",
    "    \n",
    "    payment_30_days = payment_180_days = payment_one_year = payment_in_dataset = 0\n",
    "    \n",
    "    if len(payments):\n",
    "        days_since_last_payment = (current_date.date() - payments.datum_actie.max()).days\n",
    "#         print('days_since_last_payment {}'.format(days_since_last_payment))\n",
    "        if days_since_last_payment <= 30:\n",
    "            payment_30_days = 1\n",
    "        if days_since_last_payment <= 180:\n",
    "            payment_180_days = 1\n",
    "        if days_since_last_payment <= 365:\n",
    "            payment_one_year = 1\n",
    "        payment_in_dataset = 1\n",
    "#     if len(payments)\n",
    "\n",
    "    debtor_contacts = debtor_cases[((debtor_cases.cat_actie_code >= 200.0) & (debtor_cases.cat_actie_code <= 230.0)) | ((debtor_cases.cat_actie_code == 270.0) & (debtor_cases.actie_code == 225.0))]\n",
    "    \n",
    "    contact_30_days = contact_180_days = contact_one_year = contact_in_dataset = 0\n",
    "    if len(debtor_contacts):\n",
    "        days_since_last_contact = (current_date.date() - debtor_contacts.datum_actie.max()).days\n",
    "        if days_since_last_contact <= 30:\n",
    "            contact_30_days = 1\n",
    "        if days_since_last_contact <= 180:\n",
    "            contact_180_days = 1\n",
    "        if days_since_last_contact <= 365:\n",
    "            contact_one_year = 1\n",
    "        contact_in_dataset = 1\n",
    "    \n",
    "    \n",
    "    nr_official_acts = len(debtor_cases[debtor_cases.cat_actie_code == 790.0])\n",
    "    nr_outgoing_emails = len(debtor_cases[debtor_cases.cat_actie_code == 260.0])\n",
    "    nr_outgoing_letters = len(debtor_cases[debtor_cases.cat_actie_code == 250.0])\n",
    "    nr_outbound_calls = len(debtor_cases[(debtor_cases.cat_actie_code == 270.0) & (debtor_cases.actie_code == 225.0)])\n",
    "    \n",
    "    nr_incoming_emails = len(debtor_cases[debtor_cases.cat_actie_code == 230.0])\n",
    "    nr_incoming_letters = len(debtor_cases[debtor_cases.cat_actie_code == 200.0])\n",
    "    nr_incoming_calls = len(debtor_cases[(debtor_cases.cat_actie_code == 220.0)])\n",
    "#     print(nr_cases, nr_open_cases)\n",
    "#     print(len(payments))\n",
    "\n",
    "\n",
    "    feature_creation_df = feature_creation_df.append(pd.DataFrame([[nr_cases, nr_open_cases, nr_cases_with_payment, nr_cases_without_payment, payment_30_days, payment_180_days, payment_one_year, payment_in_dataset, contact_30_days, contact_180_days, contact_one_year, contact_in_dataset, nr_official_acts, nr_outgoing_emails, nr_outgoing_letters, nr_outbound_calls, nr_incoming_emails, nr_incoming_letters, nr_incoming_calls]], columns = fc_columns))\n",
    "    \n",
    "    if i % 500 == 0:\n",
    "        print(i)\n",
    "#     if nr_cases == 81:\n",
    "#         break\n",
    "#     if len(payments) > 500:\n",
    "#         break\n",
    "#     if i > 100:\n",
    "#         break\n"
   ]
  },
  {
   "cell_type": "code",
   "execution_count": null,
   "id": "infectious-hobby",
   "metadata": {},
   "outputs": [],
   "source": [
    "feature_creation_df = feature_creation_df.astype(int)"
   ]
  },
  {
   "cell_type": "code",
   "execution_count": null,
   "id": "offensive-destiny",
   "metadata": {},
   "outputs": [],
   "source": [
    "# complete_event_log[(complete_event_log.debiteur_relatie_nr == 887541) & (complete_event_log.cat_actie_code == 220.0)]"
   ]
  },
  {
   "cell_type": "code",
   "execution_count": null,
   "id": "removable-reform",
   "metadata": {},
   "outputs": [],
   "source": [
    "feature_creation_df"
   ]
  },
  {
   "cell_type": "code",
   "execution_count": null,
   "id": "buried-tomato",
   "metadata": {},
   "outputs": [],
   "source": [
    "feature_creation_df.describe()"
   ]
  },
  {
   "cell_type": "code",
   "execution_count": null,
   "id": "specified-tourist",
   "metadata": {},
   "outputs": [],
   "source": [
    "feature_creation_df.to_csv('./data/feature_creation_landmarking.csv')"
   ]
  },
  {
   "cell_type": "code",
   "execution_count": null,
   "id": "burning-honduras",
   "metadata": {},
   "outputs": [],
   "source": [
    "feature_creation_df['index'].describe()"
   ]
  },
  {
   "cell_type": "code",
   "execution_count": null,
   "id": "exclusive-thomson",
   "metadata": {},
   "outputs": [],
   "source": [
    "feature_creation_df.columns.sort_values()"
   ]
  },
  {
   "cell_type": "code",
   "execution_count": null,
   "id": "outside-conjunction",
   "metadata": {},
   "outputs": [],
   "source": [
    "feature_creation_df = pd.read_csv('./data/feature_creation_landmarking.csv', index_col=0)"
   ]
  },
  {
   "cell_type": "code",
   "execution_count": null,
   "id": "outstanding-monaco",
   "metadata": {},
   "outputs": [],
   "source": []
  },
  {
   "cell_type": "code",
   "execution_count": null,
   "id": "collective-helping",
   "metadata": {},
   "outputs": [],
   "source": [
    "(feature_creation_df.nr_cases_in_execution_phase - feature_creation_df.nr_open_cases_in_execution_phase).describe()"
   ]
  },
  {
   "cell_type": "code",
   "execution_count": null,
   "id": "portable-performance",
   "metadata": {},
   "outputs": [],
   "source": [
    "feature_creation_df.astype(int).describe()"
   ]
  },
  {
   "cell_type": "code",
   "execution_count": null,
   "id": "serious-cooling",
   "metadata": {},
   "outputs": [],
   "source": [
    "feature_creation_df.drop(['index'], axis=1, inplace=True)\n",
    "complete_dataset.drop(['index'], axis=1, inplace=True)"
   ]
  },
  {
   "cell_type": "code",
   "execution_count": null,
   "id": "exciting-renaissance",
   "metadata": {},
   "outputs": [],
   "source": [
    "complete_dataset = complete_dataset.merge(feature_creation_df, left_index=True, right_index=True)"
   ]
  },
  {
   "cell_type": "code",
   "execution_count": null,
   "id": "hybrid-pasta",
   "metadata": {},
   "outputs": [],
   "source": [
    "complete_dataset"
   ]
  },
  {
   "cell_type": "code",
   "execution_count": null,
   "id": "enabling-message",
   "metadata": {},
   "outputs": [],
   "source": [
    "nr_official_acts"
   ]
  },
  {
   "cell_type": "code",
   "execution_count": null,
   "id": "destroyed-liverpool",
   "metadata": {},
   "outputs": [],
   "source": [
    "nr_outgoing_emails"
   ]
  },
  {
   "cell_type": "code",
   "execution_count": null,
   "id": "operating-mountain",
   "metadata": {},
   "outputs": [],
   "source": [
    "nr_outgoing_letters"
   ]
  },
  {
   "cell_type": "code",
   "execution_count": null,
   "id": "applicable-completion",
   "metadata": {},
   "outputs": [],
   "source": [
    "nr_outbound_calls"
   ]
  },
  {
   "cell_type": "code",
   "execution_count": null,
   "id": "separate-absorption",
   "metadata": {},
   "outputs": [],
   "source": [
    "payment_in_dataset"
   ]
  },
  {
   "cell_type": "code",
   "execution_count": null,
   "id": "marine-creation",
   "metadata": {},
   "outputs": [],
   "source": [
    "nr_cases"
   ]
  },
  {
   "cell_type": "code",
   "execution_count": null,
   "id": "sublime-respect",
   "metadata": {},
   "outputs": [],
   "source": [
    "nr_open_cases"
   ]
  },
  {
   "cell_type": "code",
   "execution_count": null,
   "id": "automotive-scenario",
   "metadata": {},
   "outputs": [],
   "source": [
    "payment_one_year"
   ]
  },
  {
   "cell_type": "code",
   "execution_count": null,
   "id": "uniform-canberra",
   "metadata": {},
   "outputs": [],
   "source": [
    "payment_30_days"
   ]
  },
  {
   "cell_type": "code",
   "execution_count": null,
   "id": "international-rates",
   "metadata": {},
   "outputs": [],
   "source": [
    "current_date"
   ]
  },
  {
   "cell_type": "code",
   "execution_count": null,
   "id": "resistant-causing",
   "metadata": {},
   "outputs": [],
   "source": [
    "dossier"
   ]
  },
  {
   "cell_type": "code",
   "execution_count": null,
   "id": "exciting-limitation",
   "metadata": {},
   "outputs": [],
   "source": [
    "complete_dataset.to_csv('./data/complete_dataset.csv')"
   ]
  },
  {
   "cell_type": "code",
   "execution_count": null,
   "id": "attractive-portfolio",
   "metadata": {},
   "outputs": [],
   "source": [
    "complete_dataset[complete_dataset.dossier_nr == 11800412]"
   ]
  },
  {
   "cell_type": "code",
   "execution_count": null,
   "id": "integral-biotechnology",
   "metadata": {},
   "outputs": [],
   "source": [
    "complete_dataset"
   ]
  },
  {
   "cell_type": "code",
   "execution_count": null,
   "id": "raising-isaac",
   "metadata": {},
   "outputs": [],
   "source": []
  }
 ],
 "metadata": {
  "kernelspec": {
   "display_name": "Python 3",
   "language": "python",
   "name": "python3"
  },
  "language_info": {
   "codemirror_mode": {
    "name": "ipython",
    "version": 3
   },
   "file_extension": ".py",
   "mimetype": "text/x-python",
   "name": "python",
   "nbconvert_exporter": "python",
   "pygments_lexer": "ipython3",
   "version": "3.8.10"
  }
 },
 "nbformat": 4,
 "nbformat_minor": 5
}
