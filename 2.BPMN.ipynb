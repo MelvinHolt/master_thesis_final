{
 "cells": [
  {
   "cell_type": "code",
   "execution_count": null,
   "id": "alike-semester",
   "metadata": {},
   "outputs": [],
   "source": [
    "import pandas as pd\n",
    "import numpy as np"
   ]
  },
  {
   "cell_type": "code",
   "execution_count": null,
   "id": "public-spectrum",
   "metadata": {},
   "outputs": [],
   "source": []
  },
  {
   "cell_type": "code",
   "execution_count": null,
   "id": "exterior-saturn",
   "metadata": {},
   "outputs": [],
   "source": [
    "event_log = pd.read_csv('./data/dossiers v2 - event log.csv').dropna()\n",
    "event_log"
   ]
  },
  {
   "cell_type": "code",
   "execution_count": null,
   "id": "seven-validity",
   "metadata": {},
   "outputs": [],
   "source": [
    "event_log['action'] = event_log['cat_actie_omschrijving'] + '-' + event_log['actie_omschrijving']"
   ]
  },
  {
   "cell_type": "code",
   "execution_count": null,
   "id": "3f3043e8-4d94-46b2-9d55-c7a2afb59cb1",
   "metadata": {},
   "outputs": [],
   "source": [
    "event_log[event_log['bedrag_betaling'] != 0]['dossier_nr'].nunique()"
   ]
  },
  {
   "cell_type": "markdown",
   "id": "f8c20ce8-09e3-496a-abf5-fb7d5dae2b47",
   "metadata": {},
   "source": [
    "## Filtering on actions"
   ]
  },
  {
   "cell_type": "code",
   "execution_count": null,
   "id": "4167ec6d-d7b7-4d01-bd3b-88981531bad1",
   "metadata": {},
   "outputs": [],
   "source": [
    "important_actions = pd.read_excel('./data/important actions.xlsx')\n",
    "important_actions['action'] = important_actions['cat_actie_omschrijving'] + '-' + important_actions['actie_omschrijving']\n",
    "important_actions"
   ]
  },
  {
   "cell_type": "markdown",
   "id": "dc08f2f0-a58b-4911-957b-2e3e4c6e65b7",
   "metadata": {},
   "source": [
    "Replace a wrong value"
   ]
  },
  {
   "cell_type": "code",
   "execution_count": null,
   "id": "82b09012-6272-4acf-a484-4bc7adb496b9",
   "metadata": {},
   "outputs": [],
   "source": [
    "event_log['action'] = event_log['action'].str.replace('?', '–', regex=False) "
   ]
  },
  {
   "cell_type": "code",
   "execution_count": null,
   "id": "5097af1a-311c-481e-a51e-6c8d5219d5c5",
   "metadata": {},
   "outputs": [],
   "source": [
    "important_actions[~important_actions['action'].isin(event_log['action'])]"
   ]
  },
  {
   "cell_type": "code",
   "execution_count": null,
   "id": "0f8e5505-8bef-420e-8afd-8be6494ed2dc",
   "metadata": {},
   "outputs": [],
   "source": [
    "# event_log = event_log[event_log['action'].isin(important_actions['action'])]"
   ]
  },
  {
   "cell_type": "code",
   "execution_count": null,
   "id": "90abfe0b-bdb9-4035-825d-d3584ba7bebe",
   "metadata": {},
   "outputs": [],
   "source": [
    "event_log[(event_log['actie_omschrijving'] == 'deb betaling fortis i-deal') & (event_log.cat_actie_code == 999.0)]"
   ]
  },
  {
   "cell_type": "code",
   "execution_count": null,
   "id": "d1ee8826-594d-4363-bd83-39f91e9a4bf0",
   "metadata": {},
   "outputs": [],
   "source": [
    "important_actions.cat_actie_code.value_counts()"
   ]
  },
  {
   "cell_type": "code",
   "execution_count": null,
   "id": "dc5814bb-fd20-4353-b2f7-9efc36cce092",
   "metadata": {},
   "outputs": [],
   "source": [
    "event_log2 = event_log[~event_log['action'].isin(important_actions['action'])]\n",
    "event_log2[event_log2['bedrag_betaling'] != 0]['actie_omschrijving'].value_counts()"
   ]
  },
  {
   "cell_type": "code",
   "execution_count": null,
   "id": "e00c3f87-b56f-45bb-9657-def5ad94fd34",
   "metadata": {},
   "outputs": [],
   "source": [
    "event_log = event_log[event_log['action'].isin(important_actions['action'])]"
   ]
  },
  {
   "cell_type": "code",
   "execution_count": null,
   "id": "3015f07e-9acf-4c03-85a8-1b45f0ad6654",
   "metadata": {},
   "outputs": [],
   "source": [
    "event_log['action'].nunique()"
   ]
  },
  {
   "cell_type": "code",
   "execution_count": null,
   "id": "81475a17-487b-420f-9a94-a07976c43d4b",
   "metadata": {},
   "outputs": [],
   "source": [
    "event_log.loc[(event_log.action == '[310] inkomende_betaling_derde-ABNbankbetaling via werkg/uitk') & (event_log.bedrag_betaling == 0)]"
   ]
  },
  {
   "cell_type": "code",
   "execution_count": null,
   "id": "e524c177-74b9-475c-875e-bbe6adc4e157",
   "metadata": {},
   "outputs": [],
   "source": [
    "event_log[event_log['bedrag_betaling'] != 0]['dossier_nr'].nunique()"
   ]
  },
  {
   "cell_type": "markdown",
   "id": "f7756d0e-e7cd-4910-8917-65a64a446543",
   "metadata": {},
   "source": [
    "## Aggregating payments"
   ]
  },
  {
   "cell_type": "code",
   "execution_count": null,
   "id": "c8e0de23-dc66-40c6-a125-f4bef2273f6a",
   "metadata": {},
   "outputs": [],
   "source": [
    "event_log[event_log.cat_actie_code == 110]['actie_omschrijving'].value_counts()"
   ]
  },
  {
   "cell_type": "code",
   "execution_count": null,
   "id": "8d8ea880-0c23-40bb-925f-6d63623f3005",
   "metadata": {},
   "outputs": [],
   "source": [
    "event_log[event_log.cat_actie_code == 210]['actie_omschrijving'].value_counts()"
   ]
  },
  {
   "cell_type": "code",
   "execution_count": null,
   "id": "ab9bfc65-62c8-49d8-a7c0-91de7445eb19",
   "metadata": {},
   "outputs": [],
   "source": [
    "event_log.loc[event_log.bedrag_betaling > 0].cat_actie_code.value_counts()"
   ]
  },
  {
   "cell_type": "code",
   "execution_count": null,
   "id": "493770ad-4961-4019-b586-625ab991a6b9",
   "metadata": {},
   "outputs": [],
   "source": [
    "event_log.loc[event_log.actie_omschrijving == 'Inkomende post opdrachtgever: betalingsmelding']"
   ]
  },
  {
   "cell_type": "code",
   "execution_count": null,
   "id": "716ecf30-2b56-4e44-ad10-acbc9f569530",
   "metadata": {},
   "outputs": [],
   "source": [
    "event_log.loc[event_log.actie_omschrijving == 'Inkomende post opdrachtgever: betalingsmelding', 'action'] = 'payment'"
   ]
  },
  {
   "cell_type": "code",
   "execution_count": null,
   "id": "81126a57-6b67-4490-9a65-1bb9ef0717c5",
   "metadata": {},
   "outputs": [],
   "source": [
    "# event_log.loc[event_log.action == '[310] inkomende_betaling_derde-ABNbankbetaling via werkg/uitk', 'action'] = 'payment'"
   ]
  },
  {
   "cell_type": "code",
   "execution_count": null,
   "id": "1e6b3413-ff27-4687-871c-5ef664971419",
   "metadata": {},
   "outputs": [],
   "source": [
    "event_log.loc[event_log.bedrag_betaling > 0, 'action'] = 'payment'"
   ]
  },
  {
   "cell_type": "code",
   "execution_count": null,
   "id": "b8615d1a-5861-4a1d-bc9e-025c18aab177",
   "metadata": {},
   "outputs": [],
   "source": [
    "event_log.loc[(event_log.bedrag_betaling == 0) & (event_log.cat_actie_code == 210), 'action'] = 'unsuccesful payment'"
   ]
  },
  {
   "cell_type": "code",
   "execution_count": null,
   "id": "004ed4bd-f905-4870-ac21-dbd17ff12a00",
   "metadata": {},
   "outputs": [],
   "source": [
    "event_log[event_log['action'] == 'payment']"
   ]
  },
  {
   "cell_type": "code",
   "execution_count": null,
   "id": "1b072ebd-4442-4f2e-b7ea-a3dfc1a15ccb",
   "metadata": {},
   "outputs": [],
   "source": [
    "event_log['action'].nunique()"
   ]
  },
  {
   "cell_type": "code",
   "execution_count": null,
   "id": "e528b58c-1252-4501-8d8d-e5cfd92d8578",
   "metadata": {},
   "outputs": [],
   "source": [
    "event_log[event_log['bedrag_betaling'] != 0]['dossier_nr'].nunique()"
   ]
  },
  {
   "cell_type": "markdown",
   "id": "132722fe-1c98-4153-a76c-2dcce64a05f1",
   "metadata": {},
   "source": [
    "## Filtering on case coverage"
   ]
  },
  {
   "cell_type": "code",
   "execution_count": null,
   "id": "5a141aae-c467-40c5-9799-2a2eef0a382d",
   "metadata": {},
   "outputs": [],
   "source": [
    "case_coverage = [{'activity' : activity, 'nr_of_cases' : event_log[event_log['action'] == activity]['dossier_nr'].nunique()} for activity in event_log['action'].unique()]"
   ]
  },
  {
   "cell_type": "code",
   "execution_count": null,
   "id": "f3067b9b-55f4-4a6c-becb-655fa0ded0d7",
   "metadata": {},
   "outputs": [],
   "source": [
    "event_log['action'].nunique()"
   ]
  },
  {
   "cell_type": "code",
   "execution_count": null,
   "id": "4abd2eb7-85ac-434c-8bdc-949277546f8f",
   "metadata": {},
   "outputs": [],
   "source": [
    "case_coverage_df = pd.DataFrame(case_coverage)\n",
    "case_coverage_df"
   ]
  },
  {
   "cell_type": "code",
   "execution_count": null,
   "id": "5eaad6d7-4b1c-4ee8-b0b6-412ea3c137b8",
   "metadata": {},
   "outputs": [],
   "source": [
    "important_actions[~important_actions['action'].isin(case_coverage_df['activity'])]"
   ]
  },
  {
   "cell_type": "code",
   "execution_count": null,
   "id": "430b62b9-63cf-4857-ab7e-ef2ebba2afc9",
   "metadata": {},
   "outputs": [],
   "source": [
    "event_log['dossier_nr'].nunique() * 0.05"
   ]
  },
  {
   "cell_type": "code",
   "execution_count": null,
   "id": "4522340b-c06f-4cd3-8446-ce84e10a6b42",
   "metadata": {},
   "outputs": [],
   "source": [
    "len(case_coverage_df)"
   ]
  },
  {
   "cell_type": "code",
   "execution_count": null,
   "id": "1585ee0a-6773-43ab-b5f1-71920cd9295f",
   "metadata": {},
   "outputs": [],
   "source": [
    "case_coverage_df"
   ]
  },
  {
   "cell_type": "code",
   "execution_count": null,
   "id": "00805eaa-a0f5-44a9-869d-c1da3d3edd53",
   "metadata": {},
   "outputs": [],
   "source": [
    "case_coverage_df = case_coverage_df[case_coverage_df.nr_of_cases > event_log['dossier_nr'].nunique() * 0.05]"
   ]
  },
  {
   "cell_type": "code",
   "execution_count": null,
   "id": "4d246632-2085-48e3-824d-538c9beee5f1",
   "metadata": {},
   "outputs": [],
   "source": [
    "event_log = event_log[event_log['action'].isin(case_coverage_df['activity'])]"
   ]
  },
  {
   "cell_type": "code",
   "execution_count": null,
   "id": "954ff158-c070-4f74-9556-6f6b307bc816",
   "metadata": {},
   "outputs": [],
   "source": [
    "event_log"
   ]
  },
  {
   "cell_type": "code",
   "execution_count": null,
   "id": "1150a379-cfc0-4a0e-9492-3c469c4ba6f7",
   "metadata": {},
   "outputs": [],
   "source": [
    "event_log[event_log['action'] == 'payment']['dossier_nr'].nunique()"
   ]
  },
  {
   "cell_type": "markdown",
   "id": "several-administration",
   "metadata": {},
   "source": [
    "## Cutting all activities after payment"
   ]
  },
  {
   "cell_type": "code",
   "execution_count": null,
   "id": "57741c69-121b-4475-82ca-9d2f7416cc94",
   "metadata": {},
   "outputs": [],
   "source": [
    "event_log['action'].value_counts()[0]"
   ]
  },
  {
   "cell_type": "code",
   "execution_count": null,
   "id": "challenging-neighborhood",
   "metadata": {},
   "outputs": [],
   "source": [
    "multi_index = event_log.set_index(['dossier_nr', 'volgnr_actie'])"
   ]
  },
  {
   "cell_type": "code",
   "execution_count": null,
   "id": "weird-guyana",
   "metadata": {},
   "outputs": [],
   "source": [
    "# for (i, j), data in multi_index.iterrows():\n",
    "res = pd.DataFrame()\n",
    "for dossier_nr, data in multi_index.groupby(level=0):\n",
    "    first_payment = None\n",
    "#     print(data)\n",
    "    if (data.action == 'payment').any():\n",
    "        first_payment = (data.action == 'payment').argmax() + 1 #TODo remove voor final dataset\n",
    "#         print(data.iloc[:first_payment])\n",
    "        res = res.append(data.iloc[:first_payment])\n",
    "    else:\n",
    "        res = res.append(data)\n",
    "res\n",
    "#     print(first_payment)\n",
    "#     print(data.iloc[first_payment])"
   ]
  },
  {
   "cell_type": "code",
   "execution_count": null,
   "id": "higher-emerald",
   "metadata": {},
   "outputs": [],
   "source": [
    "res.to_csv('./data/BPM_event_log_cutoff.csv')"
   ]
  },
  {
   "cell_type": "code",
   "execution_count": null,
   "id": "northern-commodity",
   "metadata": {},
   "outputs": [],
   "source": [
    "dataatje = res.copy()"
   ]
  },
  {
   "cell_type": "code",
   "execution_count": null,
   "id": "possible-kentucky",
   "metadata": {},
   "outputs": [],
   "source": [
    "dataatje.reset_index()"
   ]
  },
  {
   "cell_type": "code",
   "execution_count": null,
   "id": "tough-harbor",
   "metadata": {},
   "outputs": [],
   "source": [
    "event_log.to_csv('./data/BPM_event_log.csv')"
   ]
  }
 ],
 "metadata": {
  "kernelspec": {
   "display_name": "Python 3",
   "language": "python",
   "name": "python3"
  },
  "language_info": {
   "codemirror_mode": {
    "name": "ipython",
    "version": 3
   },
   "file_extension": ".py",
   "mimetype": "text/x-python",
   "name": "python",
   "nbconvert_exporter": "python",
   "pygments_lexer": "ipython3",
   "version": "3.8.10"
  }
 },
 "nbformat": 4,
 "nbformat_minor": 5
}
